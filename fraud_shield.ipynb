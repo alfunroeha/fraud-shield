{
  "nbformat": 4,
  "nbformat_minor": 0,
  "metadata": {
    "colab": {
      "provenance": [],
      "gpuType": "T4"
    },
    "kernelspec": {
      "name": "python3",
      "display_name": "Python 3"
    },
    "language_info": {
      "name": "python"
    },
    "accelerator": "GPU"
  },
  "cells": [
    {
      "cell_type": "code",
      "execution_count": 1,
      "metadata": {
        "id": "tnyVBL3vkBq8",
        "colab": {
          "base_uri": "https://localhost:8080/"
        },
        "outputId": "35d0fb7d-496e-4aa4-af8d-7bb19b434120"
      },
      "outputs": [
        {
          "output_type": "stream",
          "name": "stdout",
          "text": [
            "Drive already mounted at /content/drive; to attempt to forcibly remount, call drive.mount(\"/content/drive\", force_remount=True).\n",
            "Current working directory: /content/drive/My Drive/PPS\n"
          ]
        }
      ],
      "source": [
        "from google.colab import drive\n",
        "\n",
        "# Mount Google Drive\n",
        "drive.mount('/content/drive')\n",
        "\n",
        "# Change the working directory to the desired folder\n",
        "import os\n",
        "os.chdir('/content/drive/My Drive/PPS')\n",
        "\n",
        "# Verify the current working directory\n",
        "print(\"Current working directory:\", os.getcwd())"
      ]
    },
    {
      "cell_type": "code",
      "source": [
        "#!pip install tensorflow==2.9"
      ],
      "metadata": {
        "id": "kTTrIuhQErys"
      },
      "execution_count": 2,
      "outputs": []
    },
    {
      "cell_type": "code",
      "source": [
        "import tensorflow as tf\n",
        "print(tf.__version__)"
      ],
      "metadata": {
        "colab": {
          "base_uri": "https://localhost:8080/"
        },
        "id": "K2uos0QPEH3y",
        "outputId": "07ce7087-c5dc-48be-8118-2e560b1a1d44"
      },
      "execution_count": 3,
      "outputs": [
        {
          "output_type": "stream",
          "name": "stdout",
          "text": [
            "2.9.0\n"
          ]
        }
      ]
    },
    {
      "cell_type": "code",
      "source": [
        "import pandas as pd\n",
        "from sklearn.model_selection import train_test_split\n",
        "from sklearn.preprocessing import LabelEncoder, StandardScaler\n",
        "import tensorflow as tf\n",
        "from tensorflow import keras\n",
        "from tensorflow.keras import layers"
      ],
      "metadata": {
        "id": "Rjyy44y2ibEc"
      },
      "execution_count": 4,
      "outputs": []
    },
    {
      "cell_type": "code",
      "source": [
        "#define the file\n",
        "file_path = \"/content/drive/My Drive/PPS/fraud_data.csv\"\n",
        "\n",
        "#load the datasets\n",
        "df = pd.read_csv(file_path)"
      ],
      "metadata": {
        "id": "EmTyq-KWGDCo"
      },
      "execution_count": 5,
      "outputs": []
    },
    {
      "cell_type": "code",
      "source": [
        "df.head()"
      ],
      "metadata": {
        "id": "bu1G0UHSpfX5",
        "colab": {
          "base_uri": "https://localhost:8080/",
          "height": 379
        },
        "outputId": "7074e2c6-4977-4cc3-c690-3fa1e7279b54"
      },
      "execution_count": 6,
      "outputs": [
        {
          "output_type": "execute_result",
          "data": {
            "text/plain": [
              "  trans_date_trans_time                          merchant        category  \\\n",
              "0      04-01-2019 00:58  \"Stokes, Christiansen and Sipes\"     grocery_net   \n",
              "1      04-01-2019 15:06                      Predovic Inc    shopping_net   \n",
              "2      04-01-2019 22:37                   Wisozk and Sons        misc_pos   \n",
              "3      04-01-2019 23:06                    Murray-Smitham     grocery_pos   \n",
              "4      04-01-2019 23:59                        Friesen Lt  health_fitness   \n",
              "\n",
              "      amt   city state      lat      long  city_pop  \\\n",
              "0   14.37  Wales    AK  64.7556 -165.6723       145   \n",
              "1  966.11  Wales    AK  64.7556 -165.6723       145   \n",
              "2   49.61  Wales    AK  64.7556 -165.6723       145   \n",
              "3  295.26  Wales    AK  64.7556 -165.6723       145   \n",
              "4   18.17  Wales    AK  64.7556 -165.6723       145   \n",
              "\n",
              "                          job         dob                         trans_num  \\\n",
              "0  \"Administrator, education\"  09-11-1939  a3806e984cec6ac0096d8184c64ad3a1   \n",
              "1  \"Administrator, education\"  09-11-1939  a59185fe1b9ccf21323f581d7477573f   \n",
              "2  \"Administrator, education\"  09-11-1939  86ba3a888b42cd3925881fa34177b4e0   \n",
              "3  \"Administrator, education\"  09-11-1939  3a068fe1d856f0ecedbed33e4b5f4496   \n",
              "4  \"Administrator, education\"  09-11-1939  891cdd1191028759dc20dc224347a0ff   \n",
              "\n",
              "   merch_lat  merch_long is_fraud  \n",
              "0  65.654142 -164.722603        1  \n",
              "1  65.468863 -165.473127        1  \n",
              "2  65.347667 -165.914542        1  \n",
              "3  64.445035 -166.080207        1  \n",
              "4  65.447094 -165.446843        1  "
            ],
            "text/html": [
              "\n",
              "  <div id=\"df-7465dec0-0031-43ad-851c-6866fa5318ad\" class=\"colab-df-container\">\n",
              "    <div>\n",
              "<style scoped>\n",
              "    .dataframe tbody tr th:only-of-type {\n",
              "        vertical-align: middle;\n",
              "    }\n",
              "\n",
              "    .dataframe tbody tr th {\n",
              "        vertical-align: top;\n",
              "    }\n",
              "\n",
              "    .dataframe thead th {\n",
              "        text-align: right;\n",
              "    }\n",
              "</style>\n",
              "<table border=\"1\" class=\"dataframe\">\n",
              "  <thead>\n",
              "    <tr style=\"text-align: right;\">\n",
              "      <th></th>\n",
              "      <th>trans_date_trans_time</th>\n",
              "      <th>merchant</th>\n",
              "      <th>category</th>\n",
              "      <th>amt</th>\n",
              "      <th>city</th>\n",
              "      <th>state</th>\n",
              "      <th>lat</th>\n",
              "      <th>long</th>\n",
              "      <th>city_pop</th>\n",
              "      <th>job</th>\n",
              "      <th>dob</th>\n",
              "      <th>trans_num</th>\n",
              "      <th>merch_lat</th>\n",
              "      <th>merch_long</th>\n",
              "      <th>is_fraud</th>\n",
              "    </tr>\n",
              "  </thead>\n",
              "  <tbody>\n",
              "    <tr>\n",
              "      <th>0</th>\n",
              "      <td>04-01-2019 00:58</td>\n",
              "      <td>\"Stokes, Christiansen and Sipes\"</td>\n",
              "      <td>grocery_net</td>\n",
              "      <td>14.37</td>\n",
              "      <td>Wales</td>\n",
              "      <td>AK</td>\n",
              "      <td>64.7556</td>\n",
              "      <td>-165.6723</td>\n",
              "      <td>145</td>\n",
              "      <td>\"Administrator, education\"</td>\n",
              "      <td>09-11-1939</td>\n",
              "      <td>a3806e984cec6ac0096d8184c64ad3a1</td>\n",
              "      <td>65.654142</td>\n",
              "      <td>-164.722603</td>\n",
              "      <td>1</td>\n",
              "    </tr>\n",
              "    <tr>\n",
              "      <th>1</th>\n",
              "      <td>04-01-2019 15:06</td>\n",
              "      <td>Predovic Inc</td>\n",
              "      <td>shopping_net</td>\n",
              "      <td>966.11</td>\n",
              "      <td>Wales</td>\n",
              "      <td>AK</td>\n",
              "      <td>64.7556</td>\n",
              "      <td>-165.6723</td>\n",
              "      <td>145</td>\n",
              "      <td>\"Administrator, education\"</td>\n",
              "      <td>09-11-1939</td>\n",
              "      <td>a59185fe1b9ccf21323f581d7477573f</td>\n",
              "      <td>65.468863</td>\n",
              "      <td>-165.473127</td>\n",
              "      <td>1</td>\n",
              "    </tr>\n",
              "    <tr>\n",
              "      <th>2</th>\n",
              "      <td>04-01-2019 22:37</td>\n",
              "      <td>Wisozk and Sons</td>\n",
              "      <td>misc_pos</td>\n",
              "      <td>49.61</td>\n",
              "      <td>Wales</td>\n",
              "      <td>AK</td>\n",
              "      <td>64.7556</td>\n",
              "      <td>-165.6723</td>\n",
              "      <td>145</td>\n",
              "      <td>\"Administrator, education\"</td>\n",
              "      <td>09-11-1939</td>\n",
              "      <td>86ba3a888b42cd3925881fa34177b4e0</td>\n",
              "      <td>65.347667</td>\n",
              "      <td>-165.914542</td>\n",
              "      <td>1</td>\n",
              "    </tr>\n",
              "    <tr>\n",
              "      <th>3</th>\n",
              "      <td>04-01-2019 23:06</td>\n",
              "      <td>Murray-Smitham</td>\n",
              "      <td>grocery_pos</td>\n",
              "      <td>295.26</td>\n",
              "      <td>Wales</td>\n",
              "      <td>AK</td>\n",
              "      <td>64.7556</td>\n",
              "      <td>-165.6723</td>\n",
              "      <td>145</td>\n",
              "      <td>\"Administrator, education\"</td>\n",
              "      <td>09-11-1939</td>\n",
              "      <td>3a068fe1d856f0ecedbed33e4b5f4496</td>\n",
              "      <td>64.445035</td>\n",
              "      <td>-166.080207</td>\n",
              "      <td>1</td>\n",
              "    </tr>\n",
              "    <tr>\n",
              "      <th>4</th>\n",
              "      <td>04-01-2019 23:59</td>\n",
              "      <td>Friesen Lt</td>\n",
              "      <td>health_fitness</td>\n",
              "      <td>18.17</td>\n",
              "      <td>Wales</td>\n",
              "      <td>AK</td>\n",
              "      <td>64.7556</td>\n",
              "      <td>-165.6723</td>\n",
              "      <td>145</td>\n",
              "      <td>\"Administrator, education\"</td>\n",
              "      <td>09-11-1939</td>\n",
              "      <td>891cdd1191028759dc20dc224347a0ff</td>\n",
              "      <td>65.447094</td>\n",
              "      <td>-165.446843</td>\n",
              "      <td>1</td>\n",
              "    </tr>\n",
              "  </tbody>\n",
              "</table>\n",
              "</div>\n",
              "    <div class=\"colab-df-buttons\">\n",
              "\n",
              "  <div class=\"colab-df-container\">\n",
              "    <button class=\"colab-df-convert\" onclick=\"convertToInteractive('df-7465dec0-0031-43ad-851c-6866fa5318ad')\"\n",
              "            title=\"Convert this dataframe to an interactive table.\"\n",
              "            style=\"display:none;\">\n",
              "\n",
              "  <svg xmlns=\"http://www.w3.org/2000/svg\" height=\"24px\" viewBox=\"0 -960 960 960\">\n",
              "    <path d=\"M120-120v-720h720v720H120Zm60-500h600v-160H180v160Zm220 220h160v-160H400v160Zm0 220h160v-160H400v160ZM180-400h160v-160H180v160Zm440 0h160v-160H620v160ZM180-180h160v-160H180v160Zm440 0h160v-160H620v160Z\"/>\n",
              "  </svg>\n",
              "    </button>\n",
              "\n",
              "  <style>\n",
              "    .colab-df-container {\n",
              "      display:flex;\n",
              "      gap: 12px;\n",
              "    }\n",
              "\n",
              "    .colab-df-convert {\n",
              "      background-color: #E8F0FE;\n",
              "      border: none;\n",
              "      border-radius: 50%;\n",
              "      cursor: pointer;\n",
              "      display: none;\n",
              "      fill: #1967D2;\n",
              "      height: 32px;\n",
              "      padding: 0 0 0 0;\n",
              "      width: 32px;\n",
              "    }\n",
              "\n",
              "    .colab-df-convert:hover {\n",
              "      background-color: #E2EBFA;\n",
              "      box-shadow: 0px 1px 2px rgba(60, 64, 67, 0.3), 0px 1px 3px 1px rgba(60, 64, 67, 0.15);\n",
              "      fill: #174EA6;\n",
              "    }\n",
              "\n",
              "    .colab-df-buttons div {\n",
              "      margin-bottom: 4px;\n",
              "    }\n",
              "\n",
              "    [theme=dark] .colab-df-convert {\n",
              "      background-color: #3B4455;\n",
              "      fill: #D2E3FC;\n",
              "    }\n",
              "\n",
              "    [theme=dark] .colab-df-convert:hover {\n",
              "      background-color: #434B5C;\n",
              "      box-shadow: 0px 1px 3px 1px rgba(0, 0, 0, 0.15);\n",
              "      filter: drop-shadow(0px 1px 2px rgba(0, 0, 0, 0.3));\n",
              "      fill: #FFFFFF;\n",
              "    }\n",
              "  </style>\n",
              "\n",
              "    <script>\n",
              "      const buttonEl =\n",
              "        document.querySelector('#df-7465dec0-0031-43ad-851c-6866fa5318ad button.colab-df-convert');\n",
              "      buttonEl.style.display =\n",
              "        google.colab.kernel.accessAllowed ? 'block' : 'none';\n",
              "\n",
              "      async function convertToInteractive(key) {\n",
              "        const element = document.querySelector('#df-7465dec0-0031-43ad-851c-6866fa5318ad');\n",
              "        const dataTable =\n",
              "          await google.colab.kernel.invokeFunction('convertToInteractive',\n",
              "                                                    [key], {});\n",
              "        if (!dataTable) return;\n",
              "\n",
              "        const docLinkHtml = 'Like what you see? Visit the ' +\n",
              "          '<a target=\"_blank\" href=https://colab.research.google.com/notebooks/data_table.ipynb>data table notebook</a>'\n",
              "          + ' to learn more about interactive tables.';\n",
              "        element.innerHTML = '';\n",
              "        dataTable['output_type'] = 'display_data';\n",
              "        await google.colab.output.renderOutput(dataTable, element);\n",
              "        const docLink = document.createElement('div');\n",
              "        docLink.innerHTML = docLinkHtml;\n",
              "        element.appendChild(docLink);\n",
              "      }\n",
              "    </script>\n",
              "  </div>\n",
              "\n",
              "\n",
              "<div id=\"df-8f6e3a85-68b0-42eb-bef7-970bf878e98c\">\n",
              "  <button class=\"colab-df-quickchart\" onclick=\"quickchart('df-8f6e3a85-68b0-42eb-bef7-970bf878e98c')\"\n",
              "            title=\"Suggest charts\"\n",
              "            style=\"display:none;\">\n",
              "\n",
              "<svg xmlns=\"http://www.w3.org/2000/svg\" height=\"24px\"viewBox=\"0 0 24 24\"\n",
              "     width=\"24px\">\n",
              "    <g>\n",
              "        <path d=\"M19 3H5c-1.1 0-2 .9-2 2v14c0 1.1.9 2 2 2h14c1.1 0 2-.9 2-2V5c0-1.1-.9-2-2-2zM9 17H7v-7h2v7zm4 0h-2V7h2v10zm4 0h-2v-4h2v4z\"/>\n",
              "    </g>\n",
              "</svg>\n",
              "  </button>\n",
              "\n",
              "<style>\n",
              "  .colab-df-quickchart {\n",
              "      --bg-color: #E8F0FE;\n",
              "      --fill-color: #1967D2;\n",
              "      --hover-bg-color: #E2EBFA;\n",
              "      --hover-fill-color: #174EA6;\n",
              "      --disabled-fill-color: #AAA;\n",
              "      --disabled-bg-color: #DDD;\n",
              "  }\n",
              "\n",
              "  [theme=dark] .colab-df-quickchart {\n",
              "      --bg-color: #3B4455;\n",
              "      --fill-color: #D2E3FC;\n",
              "      --hover-bg-color: #434B5C;\n",
              "      --hover-fill-color: #FFFFFF;\n",
              "      --disabled-bg-color: #3B4455;\n",
              "      --disabled-fill-color: #666;\n",
              "  }\n",
              "\n",
              "  .colab-df-quickchart {\n",
              "    background-color: var(--bg-color);\n",
              "    border: none;\n",
              "    border-radius: 50%;\n",
              "    cursor: pointer;\n",
              "    display: none;\n",
              "    fill: var(--fill-color);\n",
              "    height: 32px;\n",
              "    padding: 0;\n",
              "    width: 32px;\n",
              "  }\n",
              "\n",
              "  .colab-df-quickchart:hover {\n",
              "    background-color: var(--hover-bg-color);\n",
              "    box-shadow: 0 1px 2px rgba(60, 64, 67, 0.3), 0 1px 3px 1px rgba(60, 64, 67, 0.15);\n",
              "    fill: var(--button-hover-fill-color);\n",
              "  }\n",
              "\n",
              "  .colab-df-quickchart-complete:disabled,\n",
              "  .colab-df-quickchart-complete:disabled:hover {\n",
              "    background-color: var(--disabled-bg-color);\n",
              "    fill: var(--disabled-fill-color);\n",
              "    box-shadow: none;\n",
              "  }\n",
              "\n",
              "  .colab-df-spinner {\n",
              "    border: 2px solid var(--fill-color);\n",
              "    border-color: transparent;\n",
              "    border-bottom-color: var(--fill-color);\n",
              "    animation:\n",
              "      spin 1s steps(1) infinite;\n",
              "  }\n",
              "\n",
              "  @keyframes spin {\n",
              "    0% {\n",
              "      border-color: transparent;\n",
              "      border-bottom-color: var(--fill-color);\n",
              "      border-left-color: var(--fill-color);\n",
              "    }\n",
              "    20% {\n",
              "      border-color: transparent;\n",
              "      border-left-color: var(--fill-color);\n",
              "      border-top-color: var(--fill-color);\n",
              "    }\n",
              "    30% {\n",
              "      border-color: transparent;\n",
              "      border-left-color: var(--fill-color);\n",
              "      border-top-color: var(--fill-color);\n",
              "      border-right-color: var(--fill-color);\n",
              "    }\n",
              "    40% {\n",
              "      border-color: transparent;\n",
              "      border-right-color: var(--fill-color);\n",
              "      border-top-color: var(--fill-color);\n",
              "    }\n",
              "    60% {\n",
              "      border-color: transparent;\n",
              "      border-right-color: var(--fill-color);\n",
              "    }\n",
              "    80% {\n",
              "      border-color: transparent;\n",
              "      border-right-color: var(--fill-color);\n",
              "      border-bottom-color: var(--fill-color);\n",
              "    }\n",
              "    90% {\n",
              "      border-color: transparent;\n",
              "      border-bottom-color: var(--fill-color);\n",
              "    }\n",
              "  }\n",
              "</style>\n",
              "\n",
              "  <script>\n",
              "    async function quickchart(key) {\n",
              "      const quickchartButtonEl =\n",
              "        document.querySelector('#' + key + ' button');\n",
              "      quickchartButtonEl.disabled = true;  // To prevent multiple clicks.\n",
              "      quickchartButtonEl.classList.add('colab-df-spinner');\n",
              "      try {\n",
              "        const charts = await google.colab.kernel.invokeFunction(\n",
              "            'suggestCharts', [key], {});\n",
              "      } catch (error) {\n",
              "        console.error('Error during call to suggestCharts:', error);\n",
              "      }\n",
              "      quickchartButtonEl.classList.remove('colab-df-spinner');\n",
              "      quickchartButtonEl.classList.add('colab-df-quickchart-complete');\n",
              "    }\n",
              "    (() => {\n",
              "      let quickchartButtonEl =\n",
              "        document.querySelector('#df-8f6e3a85-68b0-42eb-bef7-970bf878e98c button');\n",
              "      quickchartButtonEl.style.display =\n",
              "        google.colab.kernel.accessAllowed ? 'block' : 'none';\n",
              "    })();\n",
              "  </script>\n",
              "</div>\n",
              "\n",
              "    </div>\n",
              "  </div>\n"
            ],
            "application/vnd.google.colaboratory.intrinsic+json": {
              "type": "dataframe",
              "variable_name": "df",
              "summary": "{\n  \"name\": \"df\",\n  \"rows\": 14446,\n  \"fields\": [\n    {\n      \"column\": \"trans_date_trans_time\",\n      \"properties\": {\n        \"dtype\": \"string\",\n        \"num_unique_values\": 12126,\n        \"samples\": [\n          \"31-12-2020 11:51\",\n          \"13-01-2019 21:16\",\n          \"25-12-2020 11:52\"\n        ],\n        \"semantic_type\": \"\",\n        \"description\": \"\"\n      }\n    },\n    {\n      \"column\": \"merchant\",\n      \"properties\": {\n        \"dtype\": \"category\",\n        \"num_unique_values\": 693,\n        \"samples\": [\n          \"Sporer Inc\",\n          \"\\\"Lubowitz, Terry and Stracke\\\"\",\n          \"\\\"Bradtke, Torp and Bahringe\\\"\"\n        ],\n        \"semantic_type\": \"\",\n        \"description\": \"\"\n      }\n    },\n    {\n      \"column\": \"category\",\n      \"properties\": {\n        \"dtype\": \"category\",\n        \"num_unique_values\": 14,\n        \"samples\": [\n          \"entertainment\",\n          \"home\",\n          \"grocery_net\"\n        ],\n        \"semantic_type\": \"\",\n        \"description\": \"\"\n      }\n    },\n    {\n      \"column\": \"amt\",\n      \"properties\": {\n        \"dtype\": \"number\",\n        \"std\": 231.35258718833137,\n        \"min\": 1.0,\n        \"max\": 3261.47,\n        \"num_unique_values\": 9266,\n        \"samples\": [\n          3.31,\n          49.57,\n          116.56\n        ],\n        \"semantic_type\": \"\",\n        \"description\": \"\"\n      }\n    },\n    {\n      \"column\": \"city\",\n      \"properties\": {\n        \"dtype\": \"category\",\n        \"num_unique_values\": 176,\n        \"samples\": [\n          \"Saint Louis\",\n          \"Syracuse\",\n          \"Vancouver\"\n        ],\n        \"semantic_type\": \"\",\n        \"description\": \"\"\n      }\n    },\n    {\n      \"column\": \"state\",\n      \"properties\": {\n        \"dtype\": \"category\",\n        \"num_unique_values\": 13,\n        \"samples\": [\n          \"ID\",\n          \"WA\",\n          \"AK\"\n        ],\n        \"semantic_type\": \"\",\n        \"description\": \"\"\n      }\n    },\n    {\n      \"column\": \"lat\",\n      \"properties\": {\n        \"dtype\": \"number\",\n        \"std\": 5.317038926814483,\n        \"min\": 20.0271,\n        \"max\": 66.6933,\n        \"num_unique_values\": 183,\n        \"samples\": [\n          38.6171,\n          39.4584,\n          45.3099\n        ],\n        \"semantic_type\": \"\",\n        \"description\": \"\"\n      }\n    },\n    {\n      \"column\": \"long\",\n      \"properties\": {\n        \"dtype\": \"number\",\n        \"std\": 12.985812618179878,\n        \"min\": -165.6723,\n        \"max\": -89.6287,\n        \"num_unique_values\": 183,\n        \"samples\": [\n          -90.4504,\n          -106.3851,\n          -122.9685\n        ],\n        \"semantic_type\": \"\",\n        \"description\": \"\"\n      }\n    },\n    {\n      \"column\": \"city_pop\",\n      \"properties\": {\n        \"dtype\": \"number\",\n        \"std\": 290291,\n        \"min\": 46,\n        \"max\": 2383912,\n        \"num_unique_values\": 174,\n        \"samples\": [\n          6910,\n          6703,\n          260\n        ],\n        \"semantic_type\": \"\",\n        \"description\": \"\"\n      }\n    },\n    {\n      \"column\": \"job\",\n      \"properties\": {\n        \"dtype\": \"category\",\n        \"num_unique_values\": 163,\n        \"samples\": [\n          \"Planning and development surveyor\",\n          \"\\\"Nurse, children's\\\"\",\n          \"Chiropodist\"\n        ],\n        \"semantic_type\": \"\",\n        \"description\": \"\"\n      }\n    },\n    {\n      \"column\": \"dob\",\n      \"properties\": {\n        \"dtype\": \"category\",\n        \"num_unique_values\": 187,\n        \"samples\": [\n          \"30-09-1978\",\n          \"13-12-1956\",\n          \"13-07-1973\"\n        ],\n        \"semantic_type\": \"\",\n        \"description\": \"\"\n      }\n    },\n    {\n      \"column\": \"trans_num\",\n      \"properties\": {\n        \"dtype\": \"string\",\n        \"num_unique_values\": 14383,\n        \"samples\": [\n          \"2757d5e275cbd9c58ab5af80d4fa1a21\",\n          \"6bc2c77369a706483dc7fa7697a75f78\",\n          \"a1e867b221307c3543f30a3e68150120\"\n        ],\n        \"semantic_type\": \"\",\n        \"description\": \"\"\n      }\n    },\n    {\n      \"column\": \"merch_lat\",\n      \"properties\": {\n        \"dtype\": \"number\",\n        \"std\": 5.360593399991434,\n        \"min\": 19.032689,\n        \"max\": 67.510267,\n        \"num_unique_values\": 14376,\n        \"samples\": [\n          48.6678,\n          48.364484,\n          48.201024\n        ],\n        \"semantic_type\": \"\",\n        \"description\": \"\"\n      }\n    },\n    {\n      \"column\": \"merch_long\",\n      \"properties\": {\n        \"dtype\": \"number\",\n        \"std\": 12.995596210229966,\n        \"min\": -166.670685,\n        \"max\": -88.646366,\n        \"num_unique_values\": 14380,\n        \"samples\": [\n          -93.321336,\n          -103.672257,\n          -99.712615\n        ],\n        \"semantic_type\": \"\",\n        \"description\": \"\"\n      }\n    },\n    {\n      \"column\": \"is_fraud\",\n      \"properties\": {\n        \"dtype\": \"category\",\n        \"num_unique_values\": 4,\n        \"samples\": [\n          \"1\\\"2020-12-24 16:56:24\\\"\",\n          \"0\\\"2019-01-01 00:00:44\\\"\",\n          \"1\"\n        ],\n        \"semantic_type\": \"\",\n        \"description\": \"\"\n      }\n    }\n  ]\n}"
            }
          },
          "metadata": {},
          "execution_count": 6
        }
      ]
    },
    {
      "cell_type": "code",
      "source": [
        "print(df.info())"
      ],
      "metadata": {
        "id": "wgSDgNqRp7Rv",
        "colab": {
          "base_uri": "https://localhost:8080/"
        },
        "outputId": "d96b8775-d5c7-48b4-8873-e18a10d4fda0"
      },
      "execution_count": 7,
      "outputs": [
        {
          "output_type": "stream",
          "name": "stdout",
          "text": [
            "<class 'pandas.core.frame.DataFrame'>\n",
            "RangeIndex: 14446 entries, 0 to 14445\n",
            "Data columns (total 15 columns):\n",
            " #   Column                 Non-Null Count  Dtype  \n",
            "---  ------                 --------------  -----  \n",
            " 0   trans_date_trans_time  14446 non-null  object \n",
            " 1   merchant               14446 non-null  object \n",
            " 2   category               14446 non-null  object \n",
            " 3   amt                    14446 non-null  float64\n",
            " 4   city                   14446 non-null  object \n",
            " 5   state                  14446 non-null  object \n",
            " 6   lat                    14446 non-null  float64\n",
            " 7   long                   14446 non-null  float64\n",
            " 8   city_pop               14446 non-null  int64  \n",
            " 9   job                    14446 non-null  object \n",
            " 10  dob                    14446 non-null  object \n",
            " 11  trans_num              14446 non-null  object \n",
            " 12  merch_lat              14446 non-null  float64\n",
            " 13  merch_long             14446 non-null  float64\n",
            " 14  is_fraud               14446 non-null  object \n",
            "dtypes: float64(5), int64(1), object(9)\n",
            "memory usage: 1.7+ MB\n",
            "None\n"
          ]
        }
      ]
    },
    {
      "cell_type": "code",
      "source": [
        "df['is_fraud'].value_counts()"
      ],
      "metadata": {
        "id": "n5vOh6EdqBiS",
        "colab": {
          "base_uri": "https://localhost:8080/",
          "height": 241
        },
        "outputId": "5abfc646-a33f-4427-e8f2-396e15febb9f"
      },
      "execution_count": 8,
      "outputs": [
        {
          "output_type": "execute_result",
          "data": {
            "text/plain": [
              "is_fraud\n",
              "0                         12600\n",
              "1                          1844\n",
              "1\"2020-12-24 16:56:24\"        1\n",
              "0\"2019-01-01 00:00:44\"        1\n",
              "Name: count, dtype: int64"
            ],
            "text/html": [
              "<div>\n",
              "<style scoped>\n",
              "    .dataframe tbody tr th:only-of-type {\n",
              "        vertical-align: middle;\n",
              "    }\n",
              "\n",
              "    .dataframe tbody tr th {\n",
              "        vertical-align: top;\n",
              "    }\n",
              "\n",
              "    .dataframe thead th {\n",
              "        text-align: right;\n",
              "    }\n",
              "</style>\n",
              "<table border=\"1\" class=\"dataframe\">\n",
              "  <thead>\n",
              "    <tr style=\"text-align: right;\">\n",
              "      <th></th>\n",
              "      <th>count</th>\n",
              "    </tr>\n",
              "    <tr>\n",
              "      <th>is_fraud</th>\n",
              "      <th></th>\n",
              "    </tr>\n",
              "  </thead>\n",
              "  <tbody>\n",
              "    <tr>\n",
              "      <th>0</th>\n",
              "      <td>12600</td>\n",
              "    </tr>\n",
              "    <tr>\n",
              "      <th>1</th>\n",
              "      <td>1844</td>\n",
              "    </tr>\n",
              "    <tr>\n",
              "      <th>1\"2020-12-24 16:56:24\"</th>\n",
              "      <td>1</td>\n",
              "    </tr>\n",
              "    <tr>\n",
              "      <th>0\"2019-01-01 00:00:44\"</th>\n",
              "      <td>1</td>\n",
              "    </tr>\n",
              "  </tbody>\n",
              "</table>\n",
              "</div><br><label><b>dtype:</b> int64</label>"
            ]
          },
          "metadata": {},
          "execution_count": 8
        }
      ]
    },
    {
      "cell_type": "code",
      "source": [
        "#drop the value of 'is_fraud' if it's not 1 or 0\n",
        "df=df[df['is_fraud'].isin(['0', '1'])]"
      ],
      "metadata": {
        "id": "veC6takNqM4n"
      },
      "execution_count": 9,
      "outputs": []
    },
    {
      "cell_type": "code",
      "source": [
        "df['is_fraud'].value_counts()"
      ],
      "metadata": {
        "id": "YmcVZCkGqb8h",
        "colab": {
          "base_uri": "https://localhost:8080/",
          "height": 178
        },
        "outputId": "f87cc2f2-8583-43e8-f818-d92aa53322c6"
      },
      "execution_count": 10,
      "outputs": [
        {
          "output_type": "execute_result",
          "data": {
            "text/plain": [
              "is_fraud\n",
              "0    12600\n",
              "1     1844\n",
              "Name: count, dtype: int64"
            ],
            "text/html": [
              "<div>\n",
              "<style scoped>\n",
              "    .dataframe tbody tr th:only-of-type {\n",
              "        vertical-align: middle;\n",
              "    }\n",
              "\n",
              "    .dataframe tbody tr th {\n",
              "        vertical-align: top;\n",
              "    }\n",
              "\n",
              "    .dataframe thead th {\n",
              "        text-align: right;\n",
              "    }\n",
              "</style>\n",
              "<table border=\"1\" class=\"dataframe\">\n",
              "  <thead>\n",
              "    <tr style=\"text-align: right;\">\n",
              "      <th></th>\n",
              "      <th>count</th>\n",
              "    </tr>\n",
              "    <tr>\n",
              "      <th>is_fraud</th>\n",
              "      <th></th>\n",
              "    </tr>\n",
              "  </thead>\n",
              "  <tbody>\n",
              "    <tr>\n",
              "      <th>0</th>\n",
              "      <td>12600</td>\n",
              "    </tr>\n",
              "    <tr>\n",
              "      <th>1</th>\n",
              "      <td>1844</td>\n",
              "    </tr>\n",
              "  </tbody>\n",
              "</table>\n",
              "</div><br><label><b>dtype:</b> int64</label>"
            ]
          },
          "metadata": {},
          "execution_count": 10
        }
      ]
    },
    {
      "cell_type": "code",
      "source": [
        "#feature engineering\n",
        "#creating age category\n",
        "df['trans_date_trans_time'] = pd.to_datetime(df['trans_date_trans_time'], format=\"mixed\")\n",
        "\n",
        "df['dob'] = pd.to_datetime(df['dob'], format=\"mixed\")\n",
        "df['age'] = df['trans_date_trans_time'].dt.year - df['dob'].dt.year\n"
      ],
      "metadata": {
        "id": "rCTH_ZyIqgIl"
      },
      "execution_count": 11,
      "outputs": []
    },
    {
      "cell_type": "code",
      "source": [
        "df.head()"
      ],
      "metadata": {
        "id": "ZtTNJzDvt1Zr",
        "colab": {
          "base_uri": "https://localhost:8080/",
          "height": 330
        },
        "outputId": "c1b082e9-a81e-4a44-86ad-f32930610592"
      },
      "execution_count": 12,
      "outputs": [
        {
          "output_type": "execute_result",
          "data": {
            "text/plain": [
              "  trans_date_trans_time                          merchant        category  \\\n",
              "0   2019-04-01 00:58:00  \"Stokes, Christiansen and Sipes\"     grocery_net   \n",
              "1   2019-04-01 15:06:00                      Predovic Inc    shopping_net   \n",
              "2   2019-04-01 22:37:00                   Wisozk and Sons        misc_pos   \n",
              "3   2019-04-01 23:06:00                    Murray-Smitham     grocery_pos   \n",
              "4   2019-04-01 23:59:00                        Friesen Lt  health_fitness   \n",
              "\n",
              "      amt   city state      lat      long  city_pop  \\\n",
              "0   14.37  Wales    AK  64.7556 -165.6723       145   \n",
              "1  966.11  Wales    AK  64.7556 -165.6723       145   \n",
              "2   49.61  Wales    AK  64.7556 -165.6723       145   \n",
              "3  295.26  Wales    AK  64.7556 -165.6723       145   \n",
              "4   18.17  Wales    AK  64.7556 -165.6723       145   \n",
              "\n",
              "                          job        dob                         trans_num  \\\n",
              "0  \"Administrator, education\" 1939-09-11  a3806e984cec6ac0096d8184c64ad3a1   \n",
              "1  \"Administrator, education\" 1939-09-11  a59185fe1b9ccf21323f581d7477573f   \n",
              "2  \"Administrator, education\" 1939-09-11  86ba3a888b42cd3925881fa34177b4e0   \n",
              "3  \"Administrator, education\" 1939-09-11  3a068fe1d856f0ecedbed33e4b5f4496   \n",
              "4  \"Administrator, education\" 1939-09-11  891cdd1191028759dc20dc224347a0ff   \n",
              "\n",
              "   merch_lat  merch_long is_fraud  age  \n",
              "0  65.654142 -164.722603        1   80  \n",
              "1  65.468863 -165.473127        1   80  \n",
              "2  65.347667 -165.914542        1   80  \n",
              "3  64.445035 -166.080207        1   80  \n",
              "4  65.447094 -165.446843        1   80  "
            ],
            "text/html": [
              "\n",
              "  <div id=\"df-5e790d28-8a64-4d8b-b12c-47e0359fb5ef\" class=\"colab-df-container\">\n",
              "    <div>\n",
              "<style scoped>\n",
              "    .dataframe tbody tr th:only-of-type {\n",
              "        vertical-align: middle;\n",
              "    }\n",
              "\n",
              "    .dataframe tbody tr th {\n",
              "        vertical-align: top;\n",
              "    }\n",
              "\n",
              "    .dataframe thead th {\n",
              "        text-align: right;\n",
              "    }\n",
              "</style>\n",
              "<table border=\"1\" class=\"dataframe\">\n",
              "  <thead>\n",
              "    <tr style=\"text-align: right;\">\n",
              "      <th></th>\n",
              "      <th>trans_date_trans_time</th>\n",
              "      <th>merchant</th>\n",
              "      <th>category</th>\n",
              "      <th>amt</th>\n",
              "      <th>city</th>\n",
              "      <th>state</th>\n",
              "      <th>lat</th>\n",
              "      <th>long</th>\n",
              "      <th>city_pop</th>\n",
              "      <th>job</th>\n",
              "      <th>dob</th>\n",
              "      <th>trans_num</th>\n",
              "      <th>merch_lat</th>\n",
              "      <th>merch_long</th>\n",
              "      <th>is_fraud</th>\n",
              "      <th>age</th>\n",
              "    </tr>\n",
              "  </thead>\n",
              "  <tbody>\n",
              "    <tr>\n",
              "      <th>0</th>\n",
              "      <td>2019-04-01 00:58:00</td>\n",
              "      <td>\"Stokes, Christiansen and Sipes\"</td>\n",
              "      <td>grocery_net</td>\n",
              "      <td>14.37</td>\n",
              "      <td>Wales</td>\n",
              "      <td>AK</td>\n",
              "      <td>64.7556</td>\n",
              "      <td>-165.6723</td>\n",
              "      <td>145</td>\n",
              "      <td>\"Administrator, education\"</td>\n",
              "      <td>1939-09-11</td>\n",
              "      <td>a3806e984cec6ac0096d8184c64ad3a1</td>\n",
              "      <td>65.654142</td>\n",
              "      <td>-164.722603</td>\n",
              "      <td>1</td>\n",
              "      <td>80</td>\n",
              "    </tr>\n",
              "    <tr>\n",
              "      <th>1</th>\n",
              "      <td>2019-04-01 15:06:00</td>\n",
              "      <td>Predovic Inc</td>\n",
              "      <td>shopping_net</td>\n",
              "      <td>966.11</td>\n",
              "      <td>Wales</td>\n",
              "      <td>AK</td>\n",
              "      <td>64.7556</td>\n",
              "      <td>-165.6723</td>\n",
              "      <td>145</td>\n",
              "      <td>\"Administrator, education\"</td>\n",
              "      <td>1939-09-11</td>\n",
              "      <td>a59185fe1b9ccf21323f581d7477573f</td>\n",
              "      <td>65.468863</td>\n",
              "      <td>-165.473127</td>\n",
              "      <td>1</td>\n",
              "      <td>80</td>\n",
              "    </tr>\n",
              "    <tr>\n",
              "      <th>2</th>\n",
              "      <td>2019-04-01 22:37:00</td>\n",
              "      <td>Wisozk and Sons</td>\n",
              "      <td>misc_pos</td>\n",
              "      <td>49.61</td>\n",
              "      <td>Wales</td>\n",
              "      <td>AK</td>\n",
              "      <td>64.7556</td>\n",
              "      <td>-165.6723</td>\n",
              "      <td>145</td>\n",
              "      <td>\"Administrator, education\"</td>\n",
              "      <td>1939-09-11</td>\n",
              "      <td>86ba3a888b42cd3925881fa34177b4e0</td>\n",
              "      <td>65.347667</td>\n",
              "      <td>-165.914542</td>\n",
              "      <td>1</td>\n",
              "      <td>80</td>\n",
              "    </tr>\n",
              "    <tr>\n",
              "      <th>3</th>\n",
              "      <td>2019-04-01 23:06:00</td>\n",
              "      <td>Murray-Smitham</td>\n",
              "      <td>grocery_pos</td>\n",
              "      <td>295.26</td>\n",
              "      <td>Wales</td>\n",
              "      <td>AK</td>\n",
              "      <td>64.7556</td>\n",
              "      <td>-165.6723</td>\n",
              "      <td>145</td>\n",
              "      <td>\"Administrator, education\"</td>\n",
              "      <td>1939-09-11</td>\n",
              "      <td>3a068fe1d856f0ecedbed33e4b5f4496</td>\n",
              "      <td>64.445035</td>\n",
              "      <td>-166.080207</td>\n",
              "      <td>1</td>\n",
              "      <td>80</td>\n",
              "    </tr>\n",
              "    <tr>\n",
              "      <th>4</th>\n",
              "      <td>2019-04-01 23:59:00</td>\n",
              "      <td>Friesen Lt</td>\n",
              "      <td>health_fitness</td>\n",
              "      <td>18.17</td>\n",
              "      <td>Wales</td>\n",
              "      <td>AK</td>\n",
              "      <td>64.7556</td>\n",
              "      <td>-165.6723</td>\n",
              "      <td>145</td>\n",
              "      <td>\"Administrator, education\"</td>\n",
              "      <td>1939-09-11</td>\n",
              "      <td>891cdd1191028759dc20dc224347a0ff</td>\n",
              "      <td>65.447094</td>\n",
              "      <td>-165.446843</td>\n",
              "      <td>1</td>\n",
              "      <td>80</td>\n",
              "    </tr>\n",
              "  </tbody>\n",
              "</table>\n",
              "</div>\n",
              "    <div class=\"colab-df-buttons\">\n",
              "\n",
              "  <div class=\"colab-df-container\">\n",
              "    <button class=\"colab-df-convert\" onclick=\"convertToInteractive('df-5e790d28-8a64-4d8b-b12c-47e0359fb5ef')\"\n",
              "            title=\"Convert this dataframe to an interactive table.\"\n",
              "            style=\"display:none;\">\n",
              "\n",
              "  <svg xmlns=\"http://www.w3.org/2000/svg\" height=\"24px\" viewBox=\"0 -960 960 960\">\n",
              "    <path d=\"M120-120v-720h720v720H120Zm60-500h600v-160H180v160Zm220 220h160v-160H400v160Zm0 220h160v-160H400v160ZM180-400h160v-160H180v160Zm440 0h160v-160H620v160ZM180-180h160v-160H180v160Zm440 0h160v-160H620v160Z\"/>\n",
              "  </svg>\n",
              "    </button>\n",
              "\n",
              "  <style>\n",
              "    .colab-df-container {\n",
              "      display:flex;\n",
              "      gap: 12px;\n",
              "    }\n",
              "\n",
              "    .colab-df-convert {\n",
              "      background-color: #E8F0FE;\n",
              "      border: none;\n",
              "      border-radius: 50%;\n",
              "      cursor: pointer;\n",
              "      display: none;\n",
              "      fill: #1967D2;\n",
              "      height: 32px;\n",
              "      padding: 0 0 0 0;\n",
              "      width: 32px;\n",
              "    }\n",
              "\n",
              "    .colab-df-convert:hover {\n",
              "      background-color: #E2EBFA;\n",
              "      box-shadow: 0px 1px 2px rgba(60, 64, 67, 0.3), 0px 1px 3px 1px rgba(60, 64, 67, 0.15);\n",
              "      fill: #174EA6;\n",
              "    }\n",
              "\n",
              "    .colab-df-buttons div {\n",
              "      margin-bottom: 4px;\n",
              "    }\n",
              "\n",
              "    [theme=dark] .colab-df-convert {\n",
              "      background-color: #3B4455;\n",
              "      fill: #D2E3FC;\n",
              "    }\n",
              "\n",
              "    [theme=dark] .colab-df-convert:hover {\n",
              "      background-color: #434B5C;\n",
              "      box-shadow: 0px 1px 3px 1px rgba(0, 0, 0, 0.15);\n",
              "      filter: drop-shadow(0px 1px 2px rgba(0, 0, 0, 0.3));\n",
              "      fill: #FFFFFF;\n",
              "    }\n",
              "  </style>\n",
              "\n",
              "    <script>\n",
              "      const buttonEl =\n",
              "        document.querySelector('#df-5e790d28-8a64-4d8b-b12c-47e0359fb5ef button.colab-df-convert');\n",
              "      buttonEl.style.display =\n",
              "        google.colab.kernel.accessAllowed ? 'block' : 'none';\n",
              "\n",
              "      async function convertToInteractive(key) {\n",
              "        const element = document.querySelector('#df-5e790d28-8a64-4d8b-b12c-47e0359fb5ef');\n",
              "        const dataTable =\n",
              "          await google.colab.kernel.invokeFunction('convertToInteractive',\n",
              "                                                    [key], {});\n",
              "        if (!dataTable) return;\n",
              "\n",
              "        const docLinkHtml = 'Like what you see? Visit the ' +\n",
              "          '<a target=\"_blank\" href=https://colab.research.google.com/notebooks/data_table.ipynb>data table notebook</a>'\n",
              "          + ' to learn more about interactive tables.';\n",
              "        element.innerHTML = '';\n",
              "        dataTable['output_type'] = 'display_data';\n",
              "        await google.colab.output.renderOutput(dataTable, element);\n",
              "        const docLink = document.createElement('div');\n",
              "        docLink.innerHTML = docLinkHtml;\n",
              "        element.appendChild(docLink);\n",
              "      }\n",
              "    </script>\n",
              "  </div>\n",
              "\n",
              "\n",
              "<div id=\"df-973f00b2-7a8d-4763-bbd5-6a721bae4dc8\">\n",
              "  <button class=\"colab-df-quickchart\" onclick=\"quickchart('df-973f00b2-7a8d-4763-bbd5-6a721bae4dc8')\"\n",
              "            title=\"Suggest charts\"\n",
              "            style=\"display:none;\">\n",
              "\n",
              "<svg xmlns=\"http://www.w3.org/2000/svg\" height=\"24px\"viewBox=\"0 0 24 24\"\n",
              "     width=\"24px\">\n",
              "    <g>\n",
              "        <path d=\"M19 3H5c-1.1 0-2 .9-2 2v14c0 1.1.9 2 2 2h14c1.1 0 2-.9 2-2V5c0-1.1-.9-2-2-2zM9 17H7v-7h2v7zm4 0h-2V7h2v10zm4 0h-2v-4h2v4z\"/>\n",
              "    </g>\n",
              "</svg>\n",
              "  </button>\n",
              "\n",
              "<style>\n",
              "  .colab-df-quickchart {\n",
              "      --bg-color: #E8F0FE;\n",
              "      --fill-color: #1967D2;\n",
              "      --hover-bg-color: #E2EBFA;\n",
              "      --hover-fill-color: #174EA6;\n",
              "      --disabled-fill-color: #AAA;\n",
              "      --disabled-bg-color: #DDD;\n",
              "  }\n",
              "\n",
              "  [theme=dark] .colab-df-quickchart {\n",
              "      --bg-color: #3B4455;\n",
              "      --fill-color: #D2E3FC;\n",
              "      --hover-bg-color: #434B5C;\n",
              "      --hover-fill-color: #FFFFFF;\n",
              "      --disabled-bg-color: #3B4455;\n",
              "      --disabled-fill-color: #666;\n",
              "  }\n",
              "\n",
              "  .colab-df-quickchart {\n",
              "    background-color: var(--bg-color);\n",
              "    border: none;\n",
              "    border-radius: 50%;\n",
              "    cursor: pointer;\n",
              "    display: none;\n",
              "    fill: var(--fill-color);\n",
              "    height: 32px;\n",
              "    padding: 0;\n",
              "    width: 32px;\n",
              "  }\n",
              "\n",
              "  .colab-df-quickchart:hover {\n",
              "    background-color: var(--hover-bg-color);\n",
              "    box-shadow: 0 1px 2px rgba(60, 64, 67, 0.3), 0 1px 3px 1px rgba(60, 64, 67, 0.15);\n",
              "    fill: var(--button-hover-fill-color);\n",
              "  }\n",
              "\n",
              "  .colab-df-quickchart-complete:disabled,\n",
              "  .colab-df-quickchart-complete:disabled:hover {\n",
              "    background-color: var(--disabled-bg-color);\n",
              "    fill: var(--disabled-fill-color);\n",
              "    box-shadow: none;\n",
              "  }\n",
              "\n",
              "  .colab-df-spinner {\n",
              "    border: 2px solid var(--fill-color);\n",
              "    border-color: transparent;\n",
              "    border-bottom-color: var(--fill-color);\n",
              "    animation:\n",
              "      spin 1s steps(1) infinite;\n",
              "  }\n",
              "\n",
              "  @keyframes spin {\n",
              "    0% {\n",
              "      border-color: transparent;\n",
              "      border-bottom-color: var(--fill-color);\n",
              "      border-left-color: var(--fill-color);\n",
              "    }\n",
              "    20% {\n",
              "      border-color: transparent;\n",
              "      border-left-color: var(--fill-color);\n",
              "      border-top-color: var(--fill-color);\n",
              "    }\n",
              "    30% {\n",
              "      border-color: transparent;\n",
              "      border-left-color: var(--fill-color);\n",
              "      border-top-color: var(--fill-color);\n",
              "      border-right-color: var(--fill-color);\n",
              "    }\n",
              "    40% {\n",
              "      border-color: transparent;\n",
              "      border-right-color: var(--fill-color);\n",
              "      border-top-color: var(--fill-color);\n",
              "    }\n",
              "    60% {\n",
              "      border-color: transparent;\n",
              "      border-right-color: var(--fill-color);\n",
              "    }\n",
              "    80% {\n",
              "      border-color: transparent;\n",
              "      border-right-color: var(--fill-color);\n",
              "      border-bottom-color: var(--fill-color);\n",
              "    }\n",
              "    90% {\n",
              "      border-color: transparent;\n",
              "      border-bottom-color: var(--fill-color);\n",
              "    }\n",
              "  }\n",
              "</style>\n",
              "\n",
              "  <script>\n",
              "    async function quickchart(key) {\n",
              "      const quickchartButtonEl =\n",
              "        document.querySelector('#' + key + ' button');\n",
              "      quickchartButtonEl.disabled = true;  // To prevent multiple clicks.\n",
              "      quickchartButtonEl.classList.add('colab-df-spinner');\n",
              "      try {\n",
              "        const charts = await google.colab.kernel.invokeFunction(\n",
              "            'suggestCharts', [key], {});\n",
              "      } catch (error) {\n",
              "        console.error('Error during call to suggestCharts:', error);\n",
              "      }\n",
              "      quickchartButtonEl.classList.remove('colab-df-spinner');\n",
              "      quickchartButtonEl.classList.add('colab-df-quickchart-complete');\n",
              "    }\n",
              "    (() => {\n",
              "      let quickchartButtonEl =\n",
              "        document.querySelector('#df-973f00b2-7a8d-4763-bbd5-6a721bae4dc8 button');\n",
              "      quickchartButtonEl.style.display =\n",
              "        google.colab.kernel.accessAllowed ? 'block' : 'none';\n",
              "    })();\n",
              "  </script>\n",
              "</div>\n",
              "\n",
              "    </div>\n",
              "  </div>\n"
            ],
            "application/vnd.google.colaboratory.intrinsic+json": {
              "type": "dataframe",
              "variable_name": "df",
              "summary": "{\n  \"name\": \"df\",\n  \"rows\": 14444,\n  \"fields\": [\n    {\n      \"column\": \"trans_date_trans_time\",\n      \"properties\": {\n        \"dtype\": \"date\",\n        \"min\": \"2019-01-01 00:00:00\",\n        \"max\": \"2020-12-31 23:59:00\",\n        \"num_unique_values\": 12125,\n        \"samples\": [\n          \"2020-12-31 11:53:00\",\n          \"2019-01-13 21:18:00\",\n          \"2020-12-25 12:00:00\"\n        ],\n        \"semantic_type\": \"\",\n        \"description\": \"\"\n      }\n    },\n    {\n      \"column\": \"merchant\",\n      \"properties\": {\n        \"dtype\": \"category\",\n        \"num_unique_values\": 693,\n        \"samples\": [\n          \"Sporer Inc\",\n          \"\\\"Lubowitz, Terry and Stracke\\\"\",\n          \"\\\"Bradtke, Torp and Bahringe\\\"\"\n        ],\n        \"semantic_type\": \"\",\n        \"description\": \"\"\n      }\n    },\n    {\n      \"column\": \"category\",\n      \"properties\": {\n        \"dtype\": \"category\",\n        \"num_unique_values\": 14,\n        \"samples\": [\n          \"entertainment\",\n          \"home\",\n          \"grocery_net\"\n        ],\n        \"semantic_type\": \"\",\n        \"description\": \"\"\n      }\n    },\n    {\n      \"column\": \"amt\",\n      \"properties\": {\n        \"dtype\": \"number\",\n        \"std\": 231.36492673343417,\n        \"min\": 1.0,\n        \"max\": 3261.47,\n        \"num_unique_values\": 9265,\n        \"samples\": [\n          139.45,\n          58.77,\n          168.43\n        ],\n        \"semantic_type\": \"\",\n        \"description\": \"\"\n      }\n    },\n    {\n      \"column\": \"city\",\n      \"properties\": {\n        \"dtype\": \"category\",\n        \"num_unique_values\": 176,\n        \"samples\": [\n          \"Saint Louis\",\n          \"Syracuse\",\n          \"Vancouver\"\n        ],\n        \"semantic_type\": \"\",\n        \"description\": \"\"\n      }\n    },\n    {\n      \"column\": \"state\",\n      \"properties\": {\n        \"dtype\": \"category\",\n        \"num_unique_values\": 13,\n        \"samples\": [\n          \"ID\",\n          \"WA\",\n          \"AK\"\n        ],\n        \"semantic_type\": \"\",\n        \"description\": \"\"\n      }\n    },\n    {\n      \"column\": \"lat\",\n      \"properties\": {\n        \"dtype\": \"number\",\n        \"std\": 5.317251098242672,\n        \"min\": 20.0271,\n        \"max\": 66.6933,\n        \"num_unique_values\": 183,\n        \"samples\": [\n          38.6171,\n          39.4584,\n          45.3099\n        ],\n        \"semantic_type\": \"\",\n        \"description\": \"\"\n      }\n    },\n    {\n      \"column\": \"long\",\n      \"properties\": {\n        \"dtype\": \"number\",\n        \"std\": 12.986241155290891,\n        \"min\": -165.6723,\n        \"max\": -89.6287,\n        \"num_unique_values\": 183,\n        \"samples\": [\n          -90.4504,\n          -106.3851,\n          -122.9685\n        ],\n        \"semantic_type\": \"\",\n        \"description\": \"\"\n      }\n    },\n    {\n      \"column\": \"city_pop\",\n      \"properties\": {\n        \"dtype\": \"number\",\n        \"std\": 290309,\n        \"min\": 46,\n        \"max\": 2383912,\n        \"num_unique_values\": 174,\n        \"samples\": [\n          6910,\n          6703,\n          260\n        ],\n        \"semantic_type\": \"\",\n        \"description\": \"\"\n      }\n    },\n    {\n      \"column\": \"job\",\n      \"properties\": {\n        \"dtype\": \"category\",\n        \"num_unique_values\": 163,\n        \"samples\": [\n          \"Planning and development surveyor\",\n          \"\\\"Nurse, children's\\\"\",\n          \"Chiropodist\"\n        ],\n        \"semantic_type\": \"\",\n        \"description\": \"\"\n      }\n    },\n    {\n      \"column\": \"dob\",\n      \"properties\": {\n        \"dtype\": \"date\",\n        \"min\": \"1927-09-09 00:00:00\",\n        \"max\": \"2001-07-26 00:00:00\",\n        \"num_unique_values\": 187,\n        \"samples\": [\n          \"1978-09-30 00:00:00\",\n          \"1956-12-13 00:00:00\",\n          \"1973-07-13 00:00:00\"\n        ],\n        \"semantic_type\": \"\",\n        \"description\": \"\"\n      }\n    },\n    {\n      \"column\": \"trans_num\",\n      \"properties\": {\n        \"dtype\": \"string\",\n        \"num_unique_values\": 14381,\n        \"samples\": [\n          \"01b6b4ce6179e8e51a0c203d7cc41242\",\n          \"cf97505ad40b0464e83f3a065622eb0b\",\n          \"8945ce4c0a77f4a26621122edb3f3971\"\n        ],\n        \"semantic_type\": \"\",\n        \"description\": \"\"\n      }\n    },\n    {\n      \"column\": \"merch_lat\",\n      \"properties\": {\n        \"dtype\": \"number\",\n        \"std\": 5.360821086990987,\n        \"min\": 19.032689,\n        \"max\": 67.510267,\n        \"num_unique_values\": 14374,\n        \"samples\": [\n          41.348435,\n          34.828766,\n          64.362321\n        ],\n        \"semantic_type\": \"\",\n        \"description\": \"\"\n      }\n    },\n    {\n      \"column\": \"merch_long\",\n      \"properties\": {\n        \"dtype\": \"number\",\n        \"std\": 12.996033885332471,\n        \"min\": -166.670685,\n        \"max\": -88.646366,\n        \"num_unique_values\": 14378,\n        \"samples\": [\n          -122.880205,\n          -121.744055,\n          -121.146051\n        ],\n        \"semantic_type\": \"\",\n        \"description\": \"\"\n      }\n    },\n    {\n      \"column\": \"is_fraud\",\n      \"properties\": {\n        \"dtype\": \"category\",\n        \"num_unique_values\": 2,\n        \"samples\": [\n          \"0\",\n          \"1\"\n        ],\n        \"semantic_type\": \"\",\n        \"description\": \"\"\n      }\n    },\n    {\n      \"column\": \"age\",\n      \"properties\": {\n        \"dtype\": \"int32\",\n        \"num_unique_values\": 74,\n        \"samples\": [\n          84,\n          37\n        ],\n        \"semantic_type\": \"\",\n        \"description\": \"\"\n      }\n    }\n  ]\n}"
            }
          },
          "metadata": {},
          "execution_count": 12
        }
      ]
    },
    {
      "cell_type": "code",
      "source": [
        "def binarize(value):\n",
        "    if 18 <= value <= 25:\n",
        "        return '18-25'\n",
        "    elif 26 <= value <= 35:\n",
        "        return '26-35'\n",
        "    elif 36 <= value <= 49:\n",
        "        return '36-49'\n",
        "    elif 50 <= value <= 69:\n",
        "        return '50-69'\n",
        "    else:\n",
        "        return '70-90'\n",
        "df['age'] = df['age'].apply(binarize)"
      ],
      "metadata": {
        "id": "xgH9Jx9CvBL0"
      },
      "execution_count": 13,
      "outputs": []
    },
    {
      "cell_type": "code",
      "source": [
        "df['age'].unique()"
      ],
      "metadata": {
        "id": "srZwIJMSvC79",
        "colab": {
          "base_uri": "https://localhost:8080/"
        },
        "outputId": "1b0b54a6-6404-40d5-c8e0-981602248736"
      },
      "execution_count": 14,
      "outputs": [
        {
          "output_type": "execute_result",
          "data": {
            "text/plain": [
              "array(['70-90', '50-69', '36-49', '26-35', '18-25'], dtype=object)"
            ]
          },
          "metadata": {},
          "execution_count": 14
        }
      ]
    },
    {
      "cell_type": "code",
      "source": [
        "#creating time_category\n",
        "def categorize_time(time):\n",
        "    hour = time.hour\n",
        "    if 5 <= hour < 12:\n",
        "        return 'Morning'\n",
        "    elif 12 <= hour < 17:\n",
        "        return 'Day'\n",
        "    elif 17 <= hour < 21:\n",
        "        return 'Evening'\n",
        "    else:\n",
        "        return 'Night'\n",
        "\n",
        "# Apply the function to the DataFrame\n",
        "df['time_category'] = df['trans_date_trans_time'].dt.time.apply(categorize_time)"
      ],
      "metadata": {
        "id": "I51jYZ8QrfGx"
      },
      "execution_count": 15,
      "outputs": []
    },
    {
      "cell_type": "code",
      "source": [
        "df['time_category'].unique()"
      ],
      "metadata": {
        "id": "4195Jm5vt6oM",
        "colab": {
          "base_uri": "https://localhost:8080/"
        },
        "outputId": "8eabd75a-9503-4d7f-e020-37fc74494a3e"
      },
      "execution_count": 16,
      "outputs": [
        {
          "output_type": "execute_result",
          "data": {
            "text/plain": [
              "array(['Night', 'Day', 'Morning', 'Evening'], dtype=object)"
            ]
          },
          "metadata": {},
          "execution_count": 16
        }
      ]
    },
    {
      "cell_type": "code",
      "source": [
        "#Extracting day of the week.\n",
        "df['day_of_week'] = df['trans_date_trans_time'].dt.day_name()"
      ],
      "metadata": {
        "id": "O8S51E5qrj1d"
      },
      "execution_count": 17,
      "outputs": []
    },
    {
      "cell_type": "code",
      "source": [
        "df['day_of_week'].unique()"
      ],
      "metadata": {
        "id": "p_S9RVInwRW2",
        "colab": {
          "base_uri": "https://localhost:8080/"
        },
        "outputId": "752af9ef-4bf2-4df6-9548-68e602eec28a"
      },
      "execution_count": 18,
      "outputs": [
        {
          "output_type": "execute_result",
          "data": {
            "text/plain": [
              "array(['Monday', 'Wednesday', 'Saturday', 'Sunday', 'Tuesday', 'Thursday',\n",
              "       'Friday'], dtype=object)"
            ]
          },
          "metadata": {},
          "execution_count": 18
        }
      ]
    },
    {
      "cell_type": "code",
      "source": [
        "df['day_of_week'].head()"
      ],
      "metadata": {
        "id": "EoGakTJ5wdmG",
        "colab": {
          "base_uri": "https://localhost:8080/",
          "height": 241
        },
        "outputId": "f0023fea-be92-45d3-8ea6-db3740e96585"
      },
      "execution_count": 19,
      "outputs": [
        {
          "output_type": "execute_result",
          "data": {
            "text/plain": [
              "0    Monday\n",
              "1    Monday\n",
              "2    Monday\n",
              "3    Monday\n",
              "4    Monday\n",
              "Name: day_of_week, dtype: object"
            ],
            "text/html": [
              "<div>\n",
              "<style scoped>\n",
              "    .dataframe tbody tr th:only-of-type {\n",
              "        vertical-align: middle;\n",
              "    }\n",
              "\n",
              "    .dataframe tbody tr th {\n",
              "        vertical-align: top;\n",
              "    }\n",
              "\n",
              "    .dataframe thead th {\n",
              "        text-align: right;\n",
              "    }\n",
              "</style>\n",
              "<table border=\"1\" class=\"dataframe\">\n",
              "  <thead>\n",
              "    <tr style=\"text-align: right;\">\n",
              "      <th></th>\n",
              "      <th>day_of_week</th>\n",
              "    </tr>\n",
              "  </thead>\n",
              "  <tbody>\n",
              "    <tr>\n",
              "      <th>0</th>\n",
              "      <td>Monday</td>\n",
              "    </tr>\n",
              "    <tr>\n",
              "      <th>1</th>\n",
              "      <td>Monday</td>\n",
              "    </tr>\n",
              "    <tr>\n",
              "      <th>2</th>\n",
              "      <td>Monday</td>\n",
              "    </tr>\n",
              "    <tr>\n",
              "      <th>3</th>\n",
              "      <td>Monday</td>\n",
              "    </tr>\n",
              "    <tr>\n",
              "      <th>4</th>\n",
              "      <td>Monday</td>\n",
              "    </tr>\n",
              "  </tbody>\n",
              "</table>\n",
              "</div><br><label><b>dtype:</b> object</label>"
            ]
          },
          "metadata": {},
          "execution_count": 19
        }
      ]
    },
    {
      "cell_type": "code",
      "source": [
        "#Creating job categories.\n",
        "def job_categories(profession):\n",
        "    profession_lower = profession.lower()\n",
        "\n",
        "    # Education, Training, and Research\n",
        "    if any(keyword in profession_lower for keyword in [\n",
        "        'administrator, education', 'lecturer', 'teacher', 'professor', 'telecommunications researcher',\n",
        "        'research scientist', 'education officer', 'learning mentor', 'teaching laboratory technician',\n",
        "        'special educational needs', 'research officer', 'science writer', 'education administrator']):\n",
        "        return 'Education, Training, and Research'\n",
        "    # Healthcare, Therapy, and Well-being\n",
        "    elif any(keyword in profession_lower for keyword in [\n",
        "        'nurse', 'therapist', 'psychologist', 'counsellor', 'pharmacist', 'osteopath', 'chiropodist',\n",
        "        'health', 'clinical', 'physiotherapist', 'medical', 'audiological', 'exercise physiologist',\n",
        "        'music therapist', 'occupational therapist', 'podiatrist', 'occupational hygienist']):\n",
        "        return 'Healthcare, Therapy, and Well-being'\n",
        "    # Science, Engineering, and Technology\n",
        "    elif any(keyword in profession_lower for keyword in [\n",
        "        'cytogeneticist', 'scientist', 'engineer', 'geoscientist', 'geologist',\n",
        "        'cartographer', 'soil scientist', 'water engineer', 'systems developer']):\n",
        "        return 'Science, Engineering, and Technology'\n",
        "    # Business, Finance, and Law\n",
        "    elif any(keyword in profession_lower for keyword in [\n",
        "        'solicitor', 'legal', 'accountant', 'tax inspector', 'investment banker', 'economist',\n",
        "        'investment analyst', 'comptroller', 'financial', 'officer', 'sales', 'retail merchandiser',\n",
        "        'manager', 'chief marketing officer', 'marketing executive', 'public relations', 'futures trader',\n",
        "        'clothing/textile technologist', 'insurance broker', 'advertising account planner']):\n",
        "        return 'Business, Finance, and Law'\n",
        "    # Creative Arts, Design, and Media\n",
        "    elif any(keyword in profession_lower for keyword in [\n",
        "        'artist', 'set designer', 'web designer', 'glass blower', 'fashion designer', 'community arts worker',\n",
        "        'editor', 'journalist', 'video editor', 'musician', 'commissioning editor',\n",
        "        'television', 'radio', 'media', 'production', 'designer', 'features editor']):\n",
        "        return 'Creative Arts, Design, and Media'\n",
        "    # Construction, Planning, and Environment\n",
        "    elif any(keyword in profession_lower for keyword in [\n",
        "        'architect', 'landscape architect', 'building surveyor', 'town planner',\n",
        "        'planning and development', 'minerals surveyor', 'civil engineer',\n",
        "        'historic buildings inspector', 'petroleum engineer', 'construction', 'surveyor, minerals',\n",
        "        'land/geomatics surveyor', 'buyer, industrial', 'surveyor, land/geomatics', 'contractor',\n",
        "        'surveyor, mining', 'metallurgist']):\n",
        "        return 'Construction, Planning, and Environment'\n",
        "    # Public Sector, Civil Service, and Government\n",
        "    elif any(keyword in profession_lower for keyword in [\n",
        "        'civil service', 'local government officer', 'immigration officer',\n",
        "        'armed forces', 'charity officer', 'international aid', 'police', 'firefighter',\n",
        "        'intelligence analyst', 'public librarian', 'administrator, local government']):\n",
        "        return 'Public Sector, Civil Service, and Government'\n",
        "    # IT and Information Systems\n",
        "    elif any(keyword in profession_lower for keyword in [\n",
        "        'network engineer', 'systems analyst', 'information officer', 'it consultant',\n",
        "        'information systems manager', 'developer']):\n",
        "        return 'IT and Information Systems'\n",
        "    # Pilot\n",
        "    elif any(keyword in profession_lower for keyword in [\n",
        "        'airline pilot', 'pilot, airline']):\n",
        "        return 'Pilot'\n",
        "\n",
        "    # Other\n",
        "    else:\n",
        "        return 'Other'\n",
        "\n",
        "# Apply the function to the column 'job'\n",
        "df['professions'] = df['job'].apply(job_categories)"
      ],
      "metadata": {
        "id": "VwPPSvnhr7xU"
      },
      "execution_count": 20,
      "outputs": []
    },
    {
      "cell_type": "code",
      "source": [
        "#extracting month data from trans_date_trans_time\n",
        "df['month'] = df['trans_date_trans_time'].dt.month_name()"
      ],
      "metadata": {
        "id": "6h2z25wmtpEa"
      },
      "execution_count": 21,
      "outputs": []
    },
    {
      "cell_type": "code",
      "source": [
        "df['month'].head()"
      ],
      "metadata": {
        "id": "N58A8p-ItqxA",
        "colab": {
          "base_uri": "https://localhost:8080/",
          "height": 241
        },
        "outputId": "92063513-03c7-413a-eeb0-3f5d54ec3d69"
      },
      "execution_count": 22,
      "outputs": [
        {
          "output_type": "execute_result",
          "data": {
            "text/plain": [
              "0    April\n",
              "1    April\n",
              "2    April\n",
              "3    April\n",
              "4    April\n",
              "Name: month, dtype: object"
            ],
            "text/html": [
              "<div>\n",
              "<style scoped>\n",
              "    .dataframe tbody tr th:only-of-type {\n",
              "        vertical-align: middle;\n",
              "    }\n",
              "\n",
              "    .dataframe tbody tr th {\n",
              "        vertical-align: top;\n",
              "    }\n",
              "\n",
              "    .dataframe thead th {\n",
              "        text-align: right;\n",
              "    }\n",
              "</style>\n",
              "<table border=\"1\" class=\"dataframe\">\n",
              "  <thead>\n",
              "    <tr style=\"text-align: right;\">\n",
              "      <th></th>\n",
              "      <th>month</th>\n",
              "    </tr>\n",
              "  </thead>\n",
              "  <tbody>\n",
              "    <tr>\n",
              "      <th>0</th>\n",
              "      <td>April</td>\n",
              "    </tr>\n",
              "    <tr>\n",
              "      <th>1</th>\n",
              "      <td>April</td>\n",
              "    </tr>\n",
              "    <tr>\n",
              "      <th>2</th>\n",
              "      <td>April</td>\n",
              "    </tr>\n",
              "    <tr>\n",
              "      <th>3</th>\n",
              "      <td>April</td>\n",
              "    </tr>\n",
              "    <tr>\n",
              "      <th>4</th>\n",
              "      <td>April</td>\n",
              "    </tr>\n",
              "  </tbody>\n",
              "</table>\n",
              "</div><br><label><b>dtype:</b> object</label>"
            ]
          },
          "metadata": {},
          "execution_count": 22
        }
      ]
    },
    {
      "cell_type": "code",
      "source": [
        "df.columns"
      ],
      "metadata": {
        "id": "F2_bxjqHxQQW",
        "colab": {
          "base_uri": "https://localhost:8080/"
        },
        "outputId": "cfbfb084-c8f9-47a3-a3ba-2cbe132190bc"
      },
      "execution_count": 23,
      "outputs": [
        {
          "output_type": "execute_result",
          "data": {
            "text/plain": [
              "Index(['trans_date_trans_time', 'merchant', 'category', 'amt', 'city', 'state',\n",
              "       'lat', 'long', 'city_pop', 'job', 'dob', 'trans_num', 'merch_lat',\n",
              "       'merch_long', 'is_fraud', 'age', 'time_category', 'day_of_week',\n",
              "       'professions', 'month'],\n",
              "      dtype='object')"
            ]
          },
          "metadata": {},
          "execution_count": 23
        }
      ]
    },
    {
      "cell_type": "code",
      "source": [
        "#drop unwanted columns\n",
        "df=df.drop(['trans_date_trans_time', 'merchant', 'state', 'city',\n",
        "       'lat', 'long', 'city_pop', 'job', 'dob', 'trans_num', 'merch_lat',\n",
        "       'merch_long' ], axis=1)"
      ],
      "metadata": {
        "id": "mvFsaBZkxZr8"
      },
      "execution_count": 24,
      "outputs": []
    },
    {
      "cell_type": "code",
      "source": [
        "df.head()"
      ],
      "metadata": {
        "id": "FMqOxAI3yJP9",
        "colab": {
          "base_uri": "https://localhost:8080/",
          "height": 206
        },
        "outputId": "de335f88-f363-46bd-9c37-e4ecb4a58305"
      },
      "execution_count": 25,
      "outputs": [
        {
          "output_type": "execute_result",
          "data": {
            "text/plain": [
              "         category     amt is_fraud    age time_category day_of_week  \\\n",
              "0     grocery_net   14.37        1  70-90         Night      Monday   \n",
              "1    shopping_net  966.11        1  70-90           Day      Monday   \n",
              "2        misc_pos   49.61        1  70-90         Night      Monday   \n",
              "3     grocery_pos  295.26        1  70-90         Night      Monday   \n",
              "4  health_fitness   18.17        1  70-90         Night      Monday   \n",
              "\n",
              "                         professions  month  \n",
              "0  Education, Training, and Research  April  \n",
              "1  Education, Training, and Research  April  \n",
              "2  Education, Training, and Research  April  \n",
              "3  Education, Training, and Research  April  \n",
              "4  Education, Training, and Research  April  "
            ],
            "text/html": [
              "\n",
              "  <div id=\"df-674ca896-bd88-4405-807f-9e8ece80201f\" class=\"colab-df-container\">\n",
              "    <div>\n",
              "<style scoped>\n",
              "    .dataframe tbody tr th:only-of-type {\n",
              "        vertical-align: middle;\n",
              "    }\n",
              "\n",
              "    .dataframe tbody tr th {\n",
              "        vertical-align: top;\n",
              "    }\n",
              "\n",
              "    .dataframe thead th {\n",
              "        text-align: right;\n",
              "    }\n",
              "</style>\n",
              "<table border=\"1\" class=\"dataframe\">\n",
              "  <thead>\n",
              "    <tr style=\"text-align: right;\">\n",
              "      <th></th>\n",
              "      <th>category</th>\n",
              "      <th>amt</th>\n",
              "      <th>is_fraud</th>\n",
              "      <th>age</th>\n",
              "      <th>time_category</th>\n",
              "      <th>day_of_week</th>\n",
              "      <th>professions</th>\n",
              "      <th>month</th>\n",
              "    </tr>\n",
              "  </thead>\n",
              "  <tbody>\n",
              "    <tr>\n",
              "      <th>0</th>\n",
              "      <td>grocery_net</td>\n",
              "      <td>14.37</td>\n",
              "      <td>1</td>\n",
              "      <td>70-90</td>\n",
              "      <td>Night</td>\n",
              "      <td>Monday</td>\n",
              "      <td>Education, Training, and Research</td>\n",
              "      <td>April</td>\n",
              "    </tr>\n",
              "    <tr>\n",
              "      <th>1</th>\n",
              "      <td>shopping_net</td>\n",
              "      <td>966.11</td>\n",
              "      <td>1</td>\n",
              "      <td>70-90</td>\n",
              "      <td>Day</td>\n",
              "      <td>Monday</td>\n",
              "      <td>Education, Training, and Research</td>\n",
              "      <td>April</td>\n",
              "    </tr>\n",
              "    <tr>\n",
              "      <th>2</th>\n",
              "      <td>misc_pos</td>\n",
              "      <td>49.61</td>\n",
              "      <td>1</td>\n",
              "      <td>70-90</td>\n",
              "      <td>Night</td>\n",
              "      <td>Monday</td>\n",
              "      <td>Education, Training, and Research</td>\n",
              "      <td>April</td>\n",
              "    </tr>\n",
              "    <tr>\n",
              "      <th>3</th>\n",
              "      <td>grocery_pos</td>\n",
              "      <td>295.26</td>\n",
              "      <td>1</td>\n",
              "      <td>70-90</td>\n",
              "      <td>Night</td>\n",
              "      <td>Monday</td>\n",
              "      <td>Education, Training, and Research</td>\n",
              "      <td>April</td>\n",
              "    </tr>\n",
              "    <tr>\n",
              "      <th>4</th>\n",
              "      <td>health_fitness</td>\n",
              "      <td>18.17</td>\n",
              "      <td>1</td>\n",
              "      <td>70-90</td>\n",
              "      <td>Night</td>\n",
              "      <td>Monday</td>\n",
              "      <td>Education, Training, and Research</td>\n",
              "      <td>April</td>\n",
              "    </tr>\n",
              "  </tbody>\n",
              "</table>\n",
              "</div>\n",
              "    <div class=\"colab-df-buttons\">\n",
              "\n",
              "  <div class=\"colab-df-container\">\n",
              "    <button class=\"colab-df-convert\" onclick=\"convertToInteractive('df-674ca896-bd88-4405-807f-9e8ece80201f')\"\n",
              "            title=\"Convert this dataframe to an interactive table.\"\n",
              "            style=\"display:none;\">\n",
              "\n",
              "  <svg xmlns=\"http://www.w3.org/2000/svg\" height=\"24px\" viewBox=\"0 -960 960 960\">\n",
              "    <path d=\"M120-120v-720h720v720H120Zm60-500h600v-160H180v160Zm220 220h160v-160H400v160Zm0 220h160v-160H400v160ZM180-400h160v-160H180v160Zm440 0h160v-160H620v160ZM180-180h160v-160H180v160Zm440 0h160v-160H620v160Z\"/>\n",
              "  </svg>\n",
              "    </button>\n",
              "\n",
              "  <style>\n",
              "    .colab-df-container {\n",
              "      display:flex;\n",
              "      gap: 12px;\n",
              "    }\n",
              "\n",
              "    .colab-df-convert {\n",
              "      background-color: #E8F0FE;\n",
              "      border: none;\n",
              "      border-radius: 50%;\n",
              "      cursor: pointer;\n",
              "      display: none;\n",
              "      fill: #1967D2;\n",
              "      height: 32px;\n",
              "      padding: 0 0 0 0;\n",
              "      width: 32px;\n",
              "    }\n",
              "\n",
              "    .colab-df-convert:hover {\n",
              "      background-color: #E2EBFA;\n",
              "      box-shadow: 0px 1px 2px rgba(60, 64, 67, 0.3), 0px 1px 3px 1px rgba(60, 64, 67, 0.15);\n",
              "      fill: #174EA6;\n",
              "    }\n",
              "\n",
              "    .colab-df-buttons div {\n",
              "      margin-bottom: 4px;\n",
              "    }\n",
              "\n",
              "    [theme=dark] .colab-df-convert {\n",
              "      background-color: #3B4455;\n",
              "      fill: #D2E3FC;\n",
              "    }\n",
              "\n",
              "    [theme=dark] .colab-df-convert:hover {\n",
              "      background-color: #434B5C;\n",
              "      box-shadow: 0px 1px 3px 1px rgba(0, 0, 0, 0.15);\n",
              "      filter: drop-shadow(0px 1px 2px rgba(0, 0, 0, 0.3));\n",
              "      fill: #FFFFFF;\n",
              "    }\n",
              "  </style>\n",
              "\n",
              "    <script>\n",
              "      const buttonEl =\n",
              "        document.querySelector('#df-674ca896-bd88-4405-807f-9e8ece80201f button.colab-df-convert');\n",
              "      buttonEl.style.display =\n",
              "        google.colab.kernel.accessAllowed ? 'block' : 'none';\n",
              "\n",
              "      async function convertToInteractive(key) {\n",
              "        const element = document.querySelector('#df-674ca896-bd88-4405-807f-9e8ece80201f');\n",
              "        const dataTable =\n",
              "          await google.colab.kernel.invokeFunction('convertToInteractive',\n",
              "                                                    [key], {});\n",
              "        if (!dataTable) return;\n",
              "\n",
              "        const docLinkHtml = 'Like what you see? Visit the ' +\n",
              "          '<a target=\"_blank\" href=https://colab.research.google.com/notebooks/data_table.ipynb>data table notebook</a>'\n",
              "          + ' to learn more about interactive tables.';\n",
              "        element.innerHTML = '';\n",
              "        dataTable['output_type'] = 'display_data';\n",
              "        await google.colab.output.renderOutput(dataTable, element);\n",
              "        const docLink = document.createElement('div');\n",
              "        docLink.innerHTML = docLinkHtml;\n",
              "        element.appendChild(docLink);\n",
              "      }\n",
              "    </script>\n",
              "  </div>\n",
              "\n",
              "\n",
              "<div id=\"df-37dc0716-e306-4b12-8985-42ca3141749e\">\n",
              "  <button class=\"colab-df-quickchart\" onclick=\"quickchart('df-37dc0716-e306-4b12-8985-42ca3141749e')\"\n",
              "            title=\"Suggest charts\"\n",
              "            style=\"display:none;\">\n",
              "\n",
              "<svg xmlns=\"http://www.w3.org/2000/svg\" height=\"24px\"viewBox=\"0 0 24 24\"\n",
              "     width=\"24px\">\n",
              "    <g>\n",
              "        <path d=\"M19 3H5c-1.1 0-2 .9-2 2v14c0 1.1.9 2 2 2h14c1.1 0 2-.9 2-2V5c0-1.1-.9-2-2-2zM9 17H7v-7h2v7zm4 0h-2V7h2v10zm4 0h-2v-4h2v4z\"/>\n",
              "    </g>\n",
              "</svg>\n",
              "  </button>\n",
              "\n",
              "<style>\n",
              "  .colab-df-quickchart {\n",
              "      --bg-color: #E8F0FE;\n",
              "      --fill-color: #1967D2;\n",
              "      --hover-bg-color: #E2EBFA;\n",
              "      --hover-fill-color: #174EA6;\n",
              "      --disabled-fill-color: #AAA;\n",
              "      --disabled-bg-color: #DDD;\n",
              "  }\n",
              "\n",
              "  [theme=dark] .colab-df-quickchart {\n",
              "      --bg-color: #3B4455;\n",
              "      --fill-color: #D2E3FC;\n",
              "      --hover-bg-color: #434B5C;\n",
              "      --hover-fill-color: #FFFFFF;\n",
              "      --disabled-bg-color: #3B4455;\n",
              "      --disabled-fill-color: #666;\n",
              "  }\n",
              "\n",
              "  .colab-df-quickchart {\n",
              "    background-color: var(--bg-color);\n",
              "    border: none;\n",
              "    border-radius: 50%;\n",
              "    cursor: pointer;\n",
              "    display: none;\n",
              "    fill: var(--fill-color);\n",
              "    height: 32px;\n",
              "    padding: 0;\n",
              "    width: 32px;\n",
              "  }\n",
              "\n",
              "  .colab-df-quickchart:hover {\n",
              "    background-color: var(--hover-bg-color);\n",
              "    box-shadow: 0 1px 2px rgba(60, 64, 67, 0.3), 0 1px 3px 1px rgba(60, 64, 67, 0.15);\n",
              "    fill: var(--button-hover-fill-color);\n",
              "  }\n",
              "\n",
              "  .colab-df-quickchart-complete:disabled,\n",
              "  .colab-df-quickchart-complete:disabled:hover {\n",
              "    background-color: var(--disabled-bg-color);\n",
              "    fill: var(--disabled-fill-color);\n",
              "    box-shadow: none;\n",
              "  }\n",
              "\n",
              "  .colab-df-spinner {\n",
              "    border: 2px solid var(--fill-color);\n",
              "    border-color: transparent;\n",
              "    border-bottom-color: var(--fill-color);\n",
              "    animation:\n",
              "      spin 1s steps(1) infinite;\n",
              "  }\n",
              "\n",
              "  @keyframes spin {\n",
              "    0% {\n",
              "      border-color: transparent;\n",
              "      border-bottom-color: var(--fill-color);\n",
              "      border-left-color: var(--fill-color);\n",
              "    }\n",
              "    20% {\n",
              "      border-color: transparent;\n",
              "      border-left-color: var(--fill-color);\n",
              "      border-top-color: var(--fill-color);\n",
              "    }\n",
              "    30% {\n",
              "      border-color: transparent;\n",
              "      border-left-color: var(--fill-color);\n",
              "      border-top-color: var(--fill-color);\n",
              "      border-right-color: var(--fill-color);\n",
              "    }\n",
              "    40% {\n",
              "      border-color: transparent;\n",
              "      border-right-color: var(--fill-color);\n",
              "      border-top-color: var(--fill-color);\n",
              "    }\n",
              "    60% {\n",
              "      border-color: transparent;\n",
              "      border-right-color: var(--fill-color);\n",
              "    }\n",
              "    80% {\n",
              "      border-color: transparent;\n",
              "      border-right-color: var(--fill-color);\n",
              "      border-bottom-color: var(--fill-color);\n",
              "    }\n",
              "    90% {\n",
              "      border-color: transparent;\n",
              "      border-bottom-color: var(--fill-color);\n",
              "    }\n",
              "  }\n",
              "</style>\n",
              "\n",
              "  <script>\n",
              "    async function quickchart(key) {\n",
              "      const quickchartButtonEl =\n",
              "        document.querySelector('#' + key + ' button');\n",
              "      quickchartButtonEl.disabled = true;  // To prevent multiple clicks.\n",
              "      quickchartButtonEl.classList.add('colab-df-spinner');\n",
              "      try {\n",
              "        const charts = await google.colab.kernel.invokeFunction(\n",
              "            'suggestCharts', [key], {});\n",
              "      } catch (error) {\n",
              "        console.error('Error during call to suggestCharts:', error);\n",
              "      }\n",
              "      quickchartButtonEl.classList.remove('colab-df-spinner');\n",
              "      quickchartButtonEl.classList.add('colab-df-quickchart-complete');\n",
              "    }\n",
              "    (() => {\n",
              "      let quickchartButtonEl =\n",
              "        document.querySelector('#df-37dc0716-e306-4b12-8985-42ca3141749e button');\n",
              "      quickchartButtonEl.style.display =\n",
              "        google.colab.kernel.accessAllowed ? 'block' : 'none';\n",
              "    })();\n",
              "  </script>\n",
              "</div>\n",
              "\n",
              "    </div>\n",
              "  </div>\n"
            ],
            "application/vnd.google.colaboratory.intrinsic+json": {
              "type": "dataframe",
              "variable_name": "df",
              "summary": "{\n  \"name\": \"df\",\n  \"rows\": 14444,\n  \"fields\": [\n    {\n      \"column\": \"category\",\n      \"properties\": {\n        \"dtype\": \"category\",\n        \"num_unique_values\": 14,\n        \"samples\": [\n          \"entertainment\",\n          \"home\",\n          \"grocery_net\"\n        ],\n        \"semantic_type\": \"\",\n        \"description\": \"\"\n      }\n    },\n    {\n      \"column\": \"amt\",\n      \"properties\": {\n        \"dtype\": \"number\",\n        \"std\": 231.36492673343417,\n        \"min\": 1.0,\n        \"max\": 3261.47,\n        \"num_unique_values\": 9265,\n        \"samples\": [\n          139.45,\n          58.77,\n          168.43\n        ],\n        \"semantic_type\": \"\",\n        \"description\": \"\"\n      }\n    },\n    {\n      \"column\": \"is_fraud\",\n      \"properties\": {\n        \"dtype\": \"category\",\n        \"num_unique_values\": 2,\n        \"samples\": [\n          \"0\",\n          \"1\"\n        ],\n        \"semantic_type\": \"\",\n        \"description\": \"\"\n      }\n    },\n    {\n      \"column\": \"age\",\n      \"properties\": {\n        \"dtype\": \"category\",\n        \"num_unique_values\": 5,\n        \"samples\": [\n          \"50-69\",\n          \"18-25\"\n        ],\n        \"semantic_type\": \"\",\n        \"description\": \"\"\n      }\n    },\n    {\n      \"column\": \"time_category\",\n      \"properties\": {\n        \"dtype\": \"category\",\n        \"num_unique_values\": 4,\n        \"samples\": [\n          \"Day\",\n          \"Evening\"\n        ],\n        \"semantic_type\": \"\",\n        \"description\": \"\"\n      }\n    },\n    {\n      \"column\": \"day_of_week\",\n      \"properties\": {\n        \"dtype\": \"category\",\n        \"num_unique_values\": 7,\n        \"samples\": [\n          \"Monday\",\n          \"Wednesday\"\n        ],\n        \"semantic_type\": \"\",\n        \"description\": \"\"\n      }\n    },\n    {\n      \"column\": \"professions\",\n      \"properties\": {\n        \"dtype\": \"category\",\n        \"num_unique_values\": 10,\n        \"samples\": [\n          \"Pilot\",\n          \"Science, Engineering, and Technology\"\n        ],\n        \"semantic_type\": \"\",\n        \"description\": \"\"\n      }\n    },\n    {\n      \"column\": \"month\",\n      \"properties\": {\n        \"dtype\": \"category\",\n        \"num_unique_values\": 12,\n        \"samples\": [\n          \"September\",\n          \"March\"\n        ],\n        \"semantic_type\": \"\",\n        \"description\": \"\"\n      }\n    }\n  ]\n}"
            }
          },
          "metadata": {},
          "execution_count": 25
        }
      ]
    },
    {
      "cell_type": "code",
      "source": [
        "data=df"
      ],
      "metadata": {
        "id": "xRnKwUg00kpg"
      },
      "execution_count": 26,
      "outputs": []
    },
    {
      "cell_type": "code",
      "source": [
        "data.dtypes"
      ],
      "metadata": {
        "id": "foKBYASY0wGc",
        "colab": {
          "base_uri": "https://localhost:8080/",
          "height": 335
        },
        "outputId": "033578bd-1bcc-49d6-d07a-8003d2b9d721"
      },
      "execution_count": 27,
      "outputs": [
        {
          "output_type": "execute_result",
          "data": {
            "text/plain": [
              "category          object\n",
              "amt              float64\n",
              "is_fraud          object\n",
              "age               object\n",
              "time_category     object\n",
              "day_of_week       object\n",
              "professions       object\n",
              "month             object\n",
              "dtype: object"
            ],
            "text/html": [
              "<div>\n",
              "<style scoped>\n",
              "    .dataframe tbody tr th:only-of-type {\n",
              "        vertical-align: middle;\n",
              "    }\n",
              "\n",
              "    .dataframe tbody tr th {\n",
              "        vertical-align: top;\n",
              "    }\n",
              "\n",
              "    .dataframe thead th {\n",
              "        text-align: right;\n",
              "    }\n",
              "</style>\n",
              "<table border=\"1\" class=\"dataframe\">\n",
              "  <thead>\n",
              "    <tr style=\"text-align: right;\">\n",
              "      <th></th>\n",
              "      <th>0</th>\n",
              "    </tr>\n",
              "  </thead>\n",
              "  <tbody>\n",
              "    <tr>\n",
              "      <th>category</th>\n",
              "      <td>object</td>\n",
              "    </tr>\n",
              "    <tr>\n",
              "      <th>amt</th>\n",
              "      <td>float64</td>\n",
              "    </tr>\n",
              "    <tr>\n",
              "      <th>is_fraud</th>\n",
              "      <td>object</td>\n",
              "    </tr>\n",
              "    <tr>\n",
              "      <th>age</th>\n",
              "      <td>object</td>\n",
              "    </tr>\n",
              "    <tr>\n",
              "      <th>time_category</th>\n",
              "      <td>object</td>\n",
              "    </tr>\n",
              "    <tr>\n",
              "      <th>day_of_week</th>\n",
              "      <td>object</td>\n",
              "    </tr>\n",
              "    <tr>\n",
              "      <th>professions</th>\n",
              "      <td>object</td>\n",
              "    </tr>\n",
              "    <tr>\n",
              "      <th>month</th>\n",
              "      <td>object</td>\n",
              "    </tr>\n",
              "  </tbody>\n",
              "</table>\n",
              "</div><br><label><b>dtype:</b> object</label>"
            ]
          },
          "metadata": {},
          "execution_count": 27
        }
      ]
    },
    {
      "cell_type": "code",
      "source": [
        "X = data[['category', 'age', 'time_category', 'day_of_week', 'month', 'professions','amt']]  # Fitur\n",
        "y = data['is_fraud']  # Label target"
      ],
      "metadata": {
        "id": "BhGAabbh0qvh"
      },
      "execution_count": 28,
      "outputs": []
    },
    {
      "cell_type": "code",
      "source": [
        "from sklearn.preprocessing import LabelEncoder\n",
        "import pickle\n",
        "\n",
        "# Dictionary untuk menyimpan semua encoder\n",
        "encoders = {}\n",
        "\n",
        "# Loop melalui setiap kolom yang perlu di-encode\n",
        "for col in ['category', 'time_category', 'day_of_week', 'month', 'professions']:\n",
        "    encoder = LabelEncoder()\n",
        "    X[col] = encoder.fit_transform(X[col])\n",
        "    encoders[col] = encoder  # Simpan encoder untuk kolom ini\n",
        "\n",
        "# Simpan semua encoder ke satu file pickle\n",
        "with open('label_encoders.pkl', 'wb') as file:\n",
        "    pickle.dump(encoders, file)\n",
        "\n",
        "print(\"Semua LabelEncoder telah disimpan.\")"
      ],
      "metadata": {
        "colab": {
          "base_uri": "https://localhost:8080/"
        },
        "id": "VHEGqOoA2iWy",
        "outputId": "86caa18d-ec8b-4d8d-87a9-9854866ccd32"
      },
      "execution_count": 30,
      "outputs": [
        {
          "output_type": "stream",
          "name": "stdout",
          "text": [
            "Semua LabelEncoder telah disimpan.\n"
          ]
        },
        {
          "output_type": "stream",
          "name": "stderr",
          "text": [
            "<ipython-input-30-e103d9e1ee9e>:10: SettingWithCopyWarning: \n",
            "A value is trying to be set on a copy of a slice from a DataFrame.\n",
            "Try using .loc[row_indexer,col_indexer] = value instead\n",
            "\n",
            "See the caveats in the documentation: https://pandas.pydata.org/pandas-docs/stable/user_guide/indexing.html#returning-a-view-versus-a-copy\n",
            "  X[col] = encoder.fit_transform(X[col])\n",
            "<ipython-input-30-e103d9e1ee9e>:10: SettingWithCopyWarning: \n",
            "A value is trying to be set on a copy of a slice from a DataFrame.\n",
            "Try using .loc[row_indexer,col_indexer] = value instead\n",
            "\n",
            "See the caveats in the documentation: https://pandas.pydata.org/pandas-docs/stable/user_guide/indexing.html#returning-a-view-versus-a-copy\n",
            "  X[col] = encoder.fit_transform(X[col])\n",
            "<ipython-input-30-e103d9e1ee9e>:10: SettingWithCopyWarning: \n",
            "A value is trying to be set on a copy of a slice from a DataFrame.\n",
            "Try using .loc[row_indexer,col_indexer] = value instead\n",
            "\n",
            "See the caveats in the documentation: https://pandas.pydata.org/pandas-docs/stable/user_guide/indexing.html#returning-a-view-versus-a-copy\n",
            "  X[col] = encoder.fit_transform(X[col])\n",
            "<ipython-input-30-e103d9e1ee9e>:10: SettingWithCopyWarning: \n",
            "A value is trying to be set on a copy of a slice from a DataFrame.\n",
            "Try using .loc[row_indexer,col_indexer] = value instead\n",
            "\n",
            "See the caveats in the documentation: https://pandas.pydata.org/pandas-docs/stable/user_guide/indexing.html#returning-a-view-versus-a-copy\n",
            "  X[col] = encoder.fit_transform(X[col])\n",
            "<ipython-input-30-e103d9e1ee9e>:10: SettingWithCopyWarning: \n",
            "A value is trying to be set on a copy of a slice from a DataFrame.\n",
            "Try using .loc[row_indexer,col_indexer] = value instead\n",
            "\n",
            "See the caveats in the documentation: https://pandas.pydata.org/pandas-docs/stable/user_guide/indexing.html#returning-a-view-versus-a-copy\n",
            "  X[col] = encoder.fit_transform(X[col])\n"
          ]
        }
      ]
    },
    {
      "cell_type": "code",
      "source": [
        "from sklearn.preprocessing import LabelEncoder\n",
        "\n",
        "# Initialize the encoder\n",
        "category_encoder = LabelEncoder()\n",
        "\n",
        "# Fit and transform the 'age' column\n",
        "data['category_encoded'] = category_encoder.fit_transform(data['category'])\n",
        "\n",
        "# Print the mapping from category to encoded number\n",
        "for index, label in enumerate(category_encoder.classes_):\n",
        "    print(f\"{index}: {label}\")"
      ],
      "metadata": {
        "colab": {
          "base_uri": "https://localhost:8080/"
        },
        "id": "YUq9B4Qs2y1Z",
        "outputId": "ed920a24-7b8b-4c3a-ec77-87a19c2e535d"
      },
      "execution_count": 31,
      "outputs": [
        {
          "output_type": "stream",
          "name": "stdout",
          "text": [
            "0: entertainment\n",
            "1: food_dining\n",
            "2: gas_transport\n",
            "3: grocery_net\n",
            "4: grocery_pos\n",
            "5: health_fitness\n",
            "6: home\n",
            "7: kids_pets\n",
            "8: misc_net\n",
            "9: misc_pos\n",
            "10: personal_care\n",
            "11: shopping_net\n",
            "12: shopping_pos\n",
            "13: travel\n"
          ]
        }
      ]
    },
    {
      "cell_type": "code",
      "source": [
        "from sklearn.preprocessing import LabelEncoder\n",
        "\n",
        "# Initialize the encoder\n",
        "age_encoder = LabelEncoder()\n",
        "\n",
        "# Fit and transform the 'age' column\n",
        "data['age_encoded'] = age_encoder.fit_transform(data['age'])\n",
        "\n",
        "# Print the mapping from category to encoded number\n",
        "for index, label in enumerate(age_encoder.classes_):\n",
        "    print(f\"{index}: {label}\")\n"
      ],
      "metadata": {
        "colab": {
          "base_uri": "https://localhost:8080/"
        },
        "id": "My8Cuiv623Nc",
        "outputId": "339e3d01-043e-4faf-a221-7b665d426f15"
      },
      "execution_count": 32,
      "outputs": [
        {
          "output_type": "stream",
          "name": "stdout",
          "text": [
            "0: 18-25\n",
            "1: 26-35\n",
            "2: 36-49\n",
            "3: 50-69\n",
            "4: 70-90\n"
          ]
        }
      ]
    },
    {
      "cell_type": "code",
      "source": [
        "from sklearn.preprocessing import LabelEncoder\n",
        "\n",
        "# Initialize the encoder\n",
        "time_encoder = LabelEncoder()\n",
        "\n",
        "# Fit and transform the 'age' column\n",
        "data['time_encoded'] = time_encoder.fit_transform(data['time_category'])\n",
        "\n",
        "# Print the mapping from category to encoded number\n",
        "for index, label in enumerate(time_encoder.classes_):\n",
        "    print(f\"{index}: {label}\")\n"
      ],
      "metadata": {
        "colab": {
          "base_uri": "https://localhost:8080/"
        },
        "id": "CI8jDFUG27ZG",
        "outputId": "850be2c9-c579-4a28-d541-d92ee144fdc3"
      },
      "execution_count": 33,
      "outputs": [
        {
          "output_type": "stream",
          "name": "stdout",
          "text": [
            "0: Day\n",
            "1: Evening\n",
            "2: Morning\n",
            "3: Night\n"
          ]
        }
      ]
    },
    {
      "cell_type": "code",
      "source": [
        "from sklearn.preprocessing import LabelEncoder\n",
        "\n",
        "# Initialize the encoder\n",
        "day_encoder = LabelEncoder()\n",
        "\n",
        "# Fit and transform the 'age' column\n",
        "data['day_encoded'] = day_encoder.fit_transform(data['day_of_week'])\n",
        "\n",
        "# Print the mapping from category to encoded number\n",
        "for index, label in enumerate(day_encoder.classes_):\n",
        "    print(f\"{index}: {label}\")"
      ],
      "metadata": {
        "colab": {
          "base_uri": "https://localhost:8080/"
        },
        "id": "8G7sWzON2_O7",
        "outputId": "ed6ad2f4-8fd5-4656-bcea-84d997eab747"
      },
      "execution_count": 34,
      "outputs": [
        {
          "output_type": "stream",
          "name": "stdout",
          "text": [
            "0: Friday\n",
            "1: Monday\n",
            "2: Saturday\n",
            "3: Sunday\n",
            "4: Thursday\n",
            "5: Tuesday\n",
            "6: Wednesday\n"
          ]
        }
      ]
    },
    {
      "cell_type": "code",
      "source": [
        "from sklearn.preprocessing import LabelEncoder\n",
        "\n",
        "# Initialize the encoder\n",
        "month_encoder = LabelEncoder()\n",
        "\n",
        "# Fit and transform the 'age' column\n",
        "data['month_encoded'] = month_encoder.fit_transform(data['month'])\n",
        "\n",
        "# Print the mapping from category to encoded number\n",
        "for index, label in enumerate(month_encoder.classes_):\n",
        "    print(f\"{index}: {label}\")"
      ],
      "metadata": {
        "colab": {
          "base_uri": "https://localhost:8080/"
        },
        "id": "Gmz_IEve3ENP",
        "outputId": "828da3f9-151c-4ce4-a8b9-9441179d6149"
      },
      "execution_count": 35,
      "outputs": [
        {
          "output_type": "stream",
          "name": "stdout",
          "text": [
            "0: April\n",
            "1: August\n",
            "2: December\n",
            "3: February\n",
            "4: January\n",
            "5: July\n",
            "6: June\n",
            "7: March\n",
            "8: May\n",
            "9: November\n",
            "10: October\n",
            "11: September\n"
          ]
        }
      ]
    },
    {
      "cell_type": "code",
      "source": [
        "from sklearn.preprocessing import LabelEncoder\n",
        "\n",
        "# Initialize the encoder\n",
        "profession_encoder = LabelEncoder()\n",
        "\n",
        "# Fit and transform the 'age' column\n",
        "data['profession_encoded'] = profession_encoder.fit_transform(data['professions'])\n",
        "\n",
        "# Print the mapping from category to encoded number\n",
        "for index, label in enumerate(profession_encoder.classes_):\n",
        "    print(f\"{index}: {label}\")"
      ],
      "metadata": {
        "colab": {
          "base_uri": "https://localhost:8080/"
        },
        "id": "oJAnjQok3IVE",
        "outputId": "12dd588e-2e70-45b5-c380-9477a23ceec4"
      },
      "execution_count": 36,
      "outputs": [
        {
          "output_type": "stream",
          "name": "stdout",
          "text": [
            "0: Business, Finance, and Law\n",
            "1: Construction, Planning, and Environment\n",
            "2: Creative Arts, Design, and Media\n",
            "3: Education, Training, and Research\n",
            "4: Healthcare, Therapy, and Well-being\n",
            "5: IT and Information Systems\n",
            "6: Other\n",
            "7: Pilot\n",
            "8: Public Sector, Civil Service, and Government\n",
            "9: Science, Engineering, and Technology\n"
          ]
        }
      ]
    },
    {
      "cell_type": "code",
      "source": [
        "X = data[['category_encoded', 'age_encoded', 'time_encoded', 'day_encoded', 'month_encoded', 'profession_encoded','amt']]  # Fitur\n",
        "y = data['is_fraud']  # Label target"
      ],
      "metadata": {
        "id": "YwzoYMzJ8RLF"
      },
      "execution_count": 37,
      "outputs": []
    },
    {
      "cell_type": "code",
      "source": [
        "#Split into training and test sets\n",
        "X_train, X_test, y_train, y_test = train_test_split(X, y, test_size=0.2, random_state=42, stratify=y)"
      ],
      "metadata": {
        "id": "_VGurqaP8UM6"
      },
      "execution_count": 38,
      "outputs": []
    },
    {
      "cell_type": "code",
      "source": [
        "#SMOTE to handle imbalance dataset\n",
        "from imblearn.over_sampling import SMOTE\n",
        "\n",
        "#Apply SMOTE to the training data\n",
        "smote = SMOTE(random_state=42)\n",
        "X_train_smote, y_train_smote = smote.fit_resample(X_train, y_train)"
      ],
      "metadata": {
        "id": "1LNSkGVm0m0O"
      },
      "execution_count": 39,
      "outputs": []
    },
    {
      "cell_type": "code",
      "source": [
        "from sklearn.preprocessing import StandardScaler\n",
        "\n",
        "#Scale the data (fit scaler on training data and use the same scaler on test data)\n",
        "scaler = StandardScaler()\n",
        "X_train_smote_scaled = scaler.fit_transform(X_train_smote)\n",
        "X_test_scaled = scaler.transform(X_test)"
      ],
      "metadata": {
        "id": "vXdfzu9l8sLh"
      },
      "execution_count": 40,
      "outputs": []
    },
    {
      "cell_type": "code",
      "source": [
        "import numpy as np\n",
        "\n",
        "# Ensure data types are numeric\n",
        "X_train_smote_scaled = X_train_smote_scaled.astype(np.float64)\n",
        "y_train_smote = y_train_smote.astype(np.float64)\n",
        "X_test_scaled = X_test_scaled.astype(np.float64)\n",
        "y_test = y_test.astype(np.float64)\n",
        "\n",
        "# Print data types to confirm\n",
        "print(X_train_smote_scaled.dtype, y_train_smote.dtype)\n",
        "print(X_test_scaled.dtype, y_test.dtype)\n"
      ],
      "metadata": {
        "id": "kjVWU-McJDxy",
        "outputId": "34bfd4b1-55f0-4946-b30b-310dba72af70",
        "colab": {
          "base_uri": "https://localhost:8080/"
        }
      },
      "execution_count": 41,
      "outputs": [
        {
          "output_type": "stream",
          "name": "stdout",
          "text": [
            "float64 float64\n",
            "float64 float64\n"
          ]
        }
      ]
    },
    {
      "cell_type": "code",
      "source": [
        "#Build and train your model\n",
        "from tensorflow.keras import layers, Sequential, models\n",
        "from tensorflow.keras.layers import Dense\n",
        "\n",
        "model = Sequential([\n",
        "    Dense(32, activation='relu', input_shape=(X_train_smote_scaled.shape[1],)),\n",
        "    Dense(16, activation='relu'),\n",
        "    Dense(1, activation='sigmoid')\n",
        "])\n",
        "\n",
        "model.compile(optimizer='adam', loss='binary_crossentropy', metrics=['accuracy'])\n",
        "history = model.fit(X_train_smote_scaled, y_train_smote, epochs=50, validation_data=(X_test_scaled, y_test))"
      ],
      "metadata": {
        "colab": {
          "base_uri": "https://localhost:8080/"
        },
        "id": "V6cxS0B_8_TH",
        "outputId": "7bd329d0-19a3-4c1b-f2ae-8dcb14bc3b6c"
      },
      "execution_count": 42,
      "outputs": [
        {
          "output_type": "stream",
          "name": "stdout",
          "text": [
            "Epoch 1/50\n",
            "630/630 [==============================] - 4s 5ms/step - loss: 0.3742 - accuracy: 0.8341 - val_loss: 0.3175 - val_accuracy: 0.8737\n",
            "Epoch 2/50\n",
            "630/630 [==============================] - 3s 4ms/step - loss: 0.3096 - accuracy: 0.8653 - val_loss: 0.2739 - val_accuracy: 0.9017\n",
            "Epoch 3/50\n",
            "630/630 [==============================] - 1s 2ms/step - loss: 0.2987 - accuracy: 0.8713 - val_loss: 0.2772 - val_accuracy: 0.9048\n",
            "Epoch 4/50\n",
            "630/630 [==============================] - 1s 1ms/step - loss: 0.2886 - accuracy: 0.8786 - val_loss: 0.2718 - val_accuracy: 0.8927\n",
            "Epoch 5/50\n",
            "630/630 [==============================] - 1s 1ms/step - loss: 0.2764 - accuracy: 0.8820 - val_loss: 0.2799 - val_accuracy: 0.8924\n",
            "Epoch 6/50\n",
            "630/630 [==============================] - 1s 1ms/step - loss: 0.2640 - accuracy: 0.8898 - val_loss: 0.2623 - val_accuracy: 0.8979\n",
            "Epoch 7/50\n",
            "630/630 [==============================] - 1s 2ms/step - loss: 0.2527 - accuracy: 0.8952 - val_loss: 0.2462 - val_accuracy: 0.9142\n",
            "Epoch 8/50\n",
            "630/630 [==============================] - 1s 2ms/step - loss: 0.2428 - accuracy: 0.9002 - val_loss: 0.2237 - val_accuracy: 0.9232\n",
            "Epoch 9/50\n",
            "630/630 [==============================] - 1s 1ms/step - loss: 0.2320 - accuracy: 0.9047 - val_loss: 0.2374 - val_accuracy: 0.9090\n",
            "Epoch 10/50\n",
            "630/630 [==============================] - 1s 1ms/step - loss: 0.2228 - accuracy: 0.9095 - val_loss: 0.2333 - val_accuracy: 0.9183\n",
            "Epoch 11/50\n",
            "630/630 [==============================] - 1s 1ms/step - loss: 0.2126 - accuracy: 0.9141 - val_loss: 0.2045 - val_accuracy: 0.9346\n",
            "Epoch 12/50\n",
            "630/630 [==============================] - 1s 1ms/step - loss: 0.2044 - accuracy: 0.9173 - val_loss: 0.2227 - val_accuracy: 0.9159\n",
            "Epoch 13/50\n",
            "630/630 [==============================] - 1s 2ms/step - loss: 0.1964 - accuracy: 0.9198 - val_loss: 0.2006 - val_accuracy: 0.9353\n",
            "Epoch 14/50\n",
            "630/630 [==============================] - 1s 2ms/step - loss: 0.1889 - accuracy: 0.9250 - val_loss: 0.1944 - val_accuracy: 0.9328\n",
            "Epoch 15/50\n",
            "630/630 [==============================] - 1s 2ms/step - loss: 0.1830 - accuracy: 0.9265 - val_loss: 0.2329 - val_accuracy: 0.9145\n",
            "Epoch 16/50\n",
            "630/630 [==============================] - 1s 2ms/step - loss: 0.1779 - accuracy: 0.9302 - val_loss: 0.1543 - val_accuracy: 0.9488\n",
            "Epoch 17/50\n",
            "630/630 [==============================] - 1s 1ms/step - loss: 0.1736 - accuracy: 0.9324 - val_loss: 0.1670 - val_accuracy: 0.9439\n",
            "Epoch 18/50\n",
            "630/630 [==============================] - 1s 2ms/step - loss: 0.1699 - accuracy: 0.9321 - val_loss: 0.1960 - val_accuracy: 0.9308\n",
            "Epoch 19/50\n",
            "630/630 [==============================] - 1s 2ms/step - loss: 0.1649 - accuracy: 0.9364 - val_loss: 0.1956 - val_accuracy: 0.9318\n",
            "Epoch 20/50\n",
            "630/630 [==============================] - 1s 1ms/step - loss: 0.1615 - accuracy: 0.9375 - val_loss: 0.1955 - val_accuracy: 0.9290\n",
            "Epoch 21/50\n",
            "630/630 [==============================] - 1s 2ms/step - loss: 0.1576 - accuracy: 0.9399 - val_loss: 0.1624 - val_accuracy: 0.9436\n",
            "Epoch 22/50\n",
            "630/630 [==============================] - 1s 1ms/step - loss: 0.1545 - accuracy: 0.9398 - val_loss: 0.1681 - val_accuracy: 0.9453\n",
            "Epoch 23/50\n",
            "630/630 [==============================] - 1s 2ms/step - loss: 0.1500 - accuracy: 0.9428 - val_loss: 0.1681 - val_accuracy: 0.9405\n",
            "Epoch 24/50\n",
            "630/630 [==============================] - 1s 1ms/step - loss: 0.1475 - accuracy: 0.9418 - val_loss: 0.1756 - val_accuracy: 0.9356\n",
            "Epoch 25/50\n",
            "630/630 [==============================] - 1s 1ms/step - loss: 0.1431 - accuracy: 0.9453 - val_loss: 0.1870 - val_accuracy: 0.9280\n",
            "Epoch 26/50\n",
            "630/630 [==============================] - 1s 2ms/step - loss: 0.1421 - accuracy: 0.9452 - val_loss: 0.1814 - val_accuracy: 0.9332\n",
            "Epoch 27/50\n",
            "630/630 [==============================] - 1s 2ms/step - loss: 0.1398 - accuracy: 0.9465 - val_loss: 0.1588 - val_accuracy: 0.9463\n",
            "Epoch 28/50\n",
            "630/630 [==============================] - 1s 2ms/step - loss: 0.1374 - accuracy: 0.9468 - val_loss: 0.1404 - val_accuracy: 0.9533\n",
            "Epoch 29/50\n",
            "630/630 [==============================] - 1s 2ms/step - loss: 0.1353 - accuracy: 0.9478 - val_loss: 0.1463 - val_accuracy: 0.9508\n",
            "Epoch 30/50\n",
            "630/630 [==============================] - 1s 2ms/step - loss: 0.1339 - accuracy: 0.9481 - val_loss: 0.1550 - val_accuracy: 0.9450\n",
            "Epoch 31/50\n",
            "630/630 [==============================] - 1s 1ms/step - loss: 0.1320 - accuracy: 0.9491 - val_loss: 0.1416 - val_accuracy: 0.9508\n",
            "Epoch 32/50\n",
            "630/630 [==============================] - 1s 1ms/step - loss: 0.1305 - accuracy: 0.9506 - val_loss: 0.1562 - val_accuracy: 0.9443\n",
            "Epoch 33/50\n",
            "630/630 [==============================] - 1s 2ms/step - loss: 0.1286 - accuracy: 0.9507 - val_loss: 0.1497 - val_accuracy: 0.9470\n",
            "Epoch 34/50\n",
            "630/630 [==============================] - 1s 2ms/step - loss: 0.1273 - accuracy: 0.9514 - val_loss: 0.1397 - val_accuracy: 0.9522\n",
            "Epoch 35/50\n",
            "630/630 [==============================] - 1s 1ms/step - loss: 0.1276 - accuracy: 0.9505 - val_loss: 0.1453 - val_accuracy: 0.9498\n",
            "Epoch 36/50\n",
            "630/630 [==============================] - 1s 2ms/step - loss: 0.1261 - accuracy: 0.9521 - val_loss: 0.1526 - val_accuracy: 0.9470\n",
            "Epoch 37/50\n",
            "630/630 [==============================] - 1s 1ms/step - loss: 0.1255 - accuracy: 0.9511 - val_loss: 0.1652 - val_accuracy: 0.9360\n",
            "Epoch 38/50\n",
            "630/630 [==============================] - 1s 2ms/step - loss: 0.1236 - accuracy: 0.9536 - val_loss: 0.1773 - val_accuracy: 0.9349\n",
            "Epoch 39/50\n",
            "630/630 [==============================] - 1s 1ms/step - loss: 0.1223 - accuracy: 0.9520 - val_loss: 0.1996 - val_accuracy: 0.9218\n",
            "Epoch 40/50\n",
            "630/630 [==============================] - 1s 2ms/step - loss: 0.1223 - accuracy: 0.9539 - val_loss: 0.1551 - val_accuracy: 0.9488\n",
            "Epoch 41/50\n",
            "630/630 [==============================] - 1s 2ms/step - loss: 0.1202 - accuracy: 0.9546 - val_loss: 0.1400 - val_accuracy: 0.9529\n",
            "Epoch 42/50\n",
            "630/630 [==============================] - 1s 2ms/step - loss: 0.1215 - accuracy: 0.9523 - val_loss: 0.1542 - val_accuracy: 0.9481\n",
            "Epoch 43/50\n",
            "630/630 [==============================] - 1s 2ms/step - loss: 0.1195 - accuracy: 0.9548 - val_loss: 0.1763 - val_accuracy: 0.9335\n",
            "Epoch 44/50\n",
            "630/630 [==============================] - 1s 1ms/step - loss: 0.1187 - accuracy: 0.9542 - val_loss: 0.1636 - val_accuracy: 0.9394\n",
            "Epoch 45/50\n",
            "630/630 [==============================] - 1s 1ms/step - loss: 0.1176 - accuracy: 0.9554 - val_loss: 0.1534 - val_accuracy: 0.9439\n",
            "Epoch 46/50\n",
            "630/630 [==============================] - 1s 2ms/step - loss: 0.1165 - accuracy: 0.9552 - val_loss: 0.1659 - val_accuracy: 0.9405\n",
            "Epoch 47/50\n",
            "630/630 [==============================] - 1s 1ms/step - loss: 0.1168 - accuracy: 0.9545 - val_loss: 0.1486 - val_accuracy: 0.9474\n",
            "Epoch 48/50\n",
            "630/630 [==============================] - 1s 2ms/step - loss: 0.1140 - accuracy: 0.9564 - val_loss: 0.1301 - val_accuracy: 0.9564\n",
            "Epoch 49/50\n",
            "630/630 [==============================] - 1s 2ms/step - loss: 0.1146 - accuracy: 0.9566 - val_loss: 0.1657 - val_accuracy: 0.9380\n",
            "Epoch 50/50\n",
            "630/630 [==============================] - 1s 1ms/step - loss: 0.1147 - accuracy: 0.9560 - val_loss: 0.1598 - val_accuracy: 0.9398\n"
          ]
        }
      ]
    },
    {
      "cell_type": "code",
      "source": [
        "# Evaluate the model\n",
        "y_pred_prob = model.predict(X_test_scaled)\n",
        "y_pred = (y_pred_prob >= 0.35).astype(int)"
      ],
      "metadata": {
        "colab": {
          "base_uri": "https://localhost:8080/"
        },
        "id": "_EUE4XvtGnFm",
        "outputId": "b46e357d-663f-4f85-c12e-acb5df7d1832"
      },
      "execution_count": 43,
      "outputs": [
        {
          "output_type": "stream",
          "name": "stdout",
          "text": [
            "91/91 [==============================] - 0s 875us/step\n"
          ]
        }
      ]
    },
    {
      "cell_type": "code",
      "source": [
        "from sklearn.metrics import roc_auc_score, f1_score, accuracy_score, classification_report\n",
        "\n",
        "# Scale the test data\n",
        "X_test_scaled = scaler.transform(X_test)\n",
        "\n",
        "# Step 12: Predict on the test data (get probabilities)\n",
        "y_pred_prob = model.predict(X_test_scaled)\n",
        "\n",
        "# Step 13: Adjust the threshold for better fraud detection\n",
        "threshold = 0.8  # Experiment with this value\n",
        "y_pred = (y_pred_prob > threshold).astype(int)\n",
        "\n",
        "# Step 14: Evaluate the model using AUC, F1, and accuracy\n",
        "roc_auc = roc_auc_score(y_test, y_pred_prob)\n",
        "f1 = f1_score(y_test, y_pred)\n",
        "accuracy = accuracy_score(y_test, y_pred)\n",
        "classification_rep = classification_report(y_test, y_pred)\n",
        "\n",
        "# Step 15: Display results\n",
        "print(f\"Best Threshold: {threshold}, Best F1 Score: {f1}\")\n",
        "print(f\"ROC-AUC Score: {roc_auc:.2f}\")\n",
        "print(f\"Accuracy: {accuracy:.2f}\")\n",
        "print(classification_rep)"
      ],
      "metadata": {
        "id": "HB5A59YT1Y-o",
        "colab": {
          "base_uri": "https://localhost:8080/"
        },
        "outputId": "f13e68bb-6c29-4853-e832-716e0788283f"
      },
      "execution_count": 44,
      "outputs": [
        {
          "output_type": "stream",
          "name": "stdout",
          "text": [
            "91/91 [==============================] - 0s 865us/step\n",
            "Best Threshold: 0.8, Best F1 Score: 0.8614540466392319\n",
            "ROC-AUC Score: 0.98\n",
            "Accuracy: 0.97\n",
            "              precision    recall  f1-score   support\n",
            "\n",
            "         0.0       0.98      0.98      0.98      2520\n",
            "         1.0       0.87      0.85      0.86       369\n",
            "\n",
            "    accuracy                           0.97      2889\n",
            "   macro avg       0.93      0.92      0.92      2889\n",
            "weighted avg       0.96      0.97      0.96      2889\n",
            "\n"
          ]
        }
      ]
    },
    {
      "cell_type": "code",
      "source": [
        "import matplotlib.pyplot as plt\n",
        "\n",
        "# Assuming `history` is the result of your model.fit() call\n",
        "# Plot training & validation accuracy values\n",
        "plt.figure(figsize=(12, 6))\n",
        "\n",
        "# Plotting Accuracy\n",
        "plt.subplot(1, 2, 1)\n",
        "plt.plot(history.history['accuracy'], label='Train Accuracy')\n",
        "plt.plot(history.history['val_accuracy'], label='Validation Accuracy')\n",
        "plt.title('Model Accuracy')\n",
        "plt.ylabel('Accuracy')\n",
        "plt.xlabel('Epoch')\n",
        "plt.legend(loc='best')\n",
        "\n",
        "# Plotting Loss\n",
        "plt.subplot(1, 2, 2)\n",
        "plt.plot(history.history['loss'], label='Train Loss')\n",
        "plt.plot(history.history['val_loss'], label='Validation Loss')\n",
        "plt.title('Model Loss')\n",
        "plt.ylabel('Loss')\n",
        "plt.xlabel('Epoch')\n",
        "plt.legend(loc='best')\n",
        "\n",
        "plt.tight_layout()\n",
        "plt.show()\n"
      ],
      "metadata": {
        "id": "I_WKWG_v19v5",
        "colab": {
          "base_uri": "https://localhost:8080/",
          "height": 607
        },
        "outputId": "16ddd2b1-e175-4102-fd9a-bf511a2b8e4c"
      },
      "execution_count": 45,
      "outputs": [
        {
          "output_type": "display_data",
          "data": {
            "text/plain": [
              "<Figure size 1200x600 with 2 Axes>"
            ],
            "image/png": "[encoded data removed]"
          },
          "metadata": {}
        }
      ]
    },
    {
      "cell_type": "code",
      "source": [
        "# Save the model as an .h5 file\n",
        "model.save('fraud_detection_model.h5')"
      ],
      "metadata": {
        "id": "gkEcDcC24gsp"
      },
      "execution_count": 46,
      "outputs": []
    }
  ]
}